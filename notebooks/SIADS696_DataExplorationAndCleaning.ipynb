{
  "nbformat": 4,
  "nbformat_minor": 0,
  "metadata": {
    "colab": {
      "provenance": [],
      "include_colab_link": true
    },
    "kernelspec": {
      "name": "python3",
      "display_name": "Python 3"
    },
    "language_info": {
      "name": "python"
    }
  },
  "cells": [
    {
      "cell_type": "markdown",
      "metadata": {
        "id": "view-in-github",
        "colab_type": "text"
      },
      "source": [
        "<a href=\"https://colab.research.google.com/github/rhailper/milestoneII/blob/main/notebooks/SIADS696_DataExplorationAndCleaning.ipynb\" target=\"_parent\"><img src=\"https://colab.research.google.com/assets/colab-badge.svg\" alt=\"Open In Colab\"/></a>"
      ]
    },
    {
      "cell_type": "markdown",
      "source": [
        "### Connect to drive and pull from github"
      ],
      "metadata": {
        "id": "6qA1qHBlDbon"
      }
    },
    {
      "cell_type": "code",
      "source": [
        "from google.colab import drive\n",
        "drive.mount('/content/drive')"
      ],
      "metadata": {
        "colab": {
          "base_uri": "https://localhost:8080/"
        },
        "id": "jVp1iItRtb1Z",
        "outputId": "514cb203-8773-4fe7-cf7f-c89ff47475e7"
      },
      "execution_count": 1,
      "outputs": [
        {
          "output_type": "stream",
          "name": "stdout",
          "text": [
            "Drive already mounted at /content/drive; to attempt to forcibly remount, call drive.mount(\"/content/drive\", force_remount=True).\n"
          ]
        }
      ]
    },
    {
      "cell_type": "code",
      "source": [
        "%cd /content/drive/MyDrive/Colab Notebooks"
      ],
      "metadata": {
        "id": "aH30GBtggDvU",
        "outputId": "3ee76847-91ce-46b6-f9c0-6ec3f9efc663",
        "colab": {
          "base_uri": "https://localhost:8080/"
        }
      },
      "execution_count": 2,
      "outputs": [
        {
          "output_type": "stream",
          "name": "stdout",
          "text": [
            "/content/drive/MyDrive/Colab Notebooks\n"
          ]
        }
      ]
    },
    {
      "cell_type": "code",
      "source": [
        "from config import *"
      ],
      "metadata": {
        "id": "PdtGAopcDQMf"
      },
      "execution_count": 3,
      "outputs": []
    },
    {
      "cell_type": "code",
      "source": [
        "#!git clone https://{token}@github.com/rhailper/milestoneII.git"
      ],
      "metadata": {
        "id": "B1II3jnwDVsa"
      },
      "execution_count": 4,
      "outputs": []
    },
    {
      "cell_type": "code",
      "source": [
        "%cd /content/drive/MyDrive/Colab Notebooks/milestoneII"
      ],
      "metadata": {
        "id": "Ordo-2YrGnTD",
        "outputId": "be2141c5-0c87-4bd9-c89e-8589b32366e1",
        "colab": {
          "base_uri": "https://localhost:8080/"
        }
      },
      "execution_count": 5,
      "outputs": [
        {
          "output_type": "stream",
          "name": "stdout",
          "text": [
            "/content/drive/MyDrive/Colab Notebooks/milestoneII\n"
          ]
        }
      ]
    },
    {
      "cell_type": "code",
      "source": [
        "!git pull"
      ],
      "metadata": {
        "colab": {
          "base_uri": "https://localhost:8080/"
        },
        "id": "QRkmUE-AC85W",
        "outputId": "1468d422-1275-447f-9ec8-6723a149471c"
      },
      "execution_count": 6,
      "outputs": [
        {
          "output_type": "stream",
          "name": "stdout",
          "text": [
            "remote: Enumerating objects: 7, done.\u001b[K\n",
            "remote: Counting objects:  14% (1/7)\u001b[K\rremote: Counting objects:  28% (2/7)\u001b[K\rremote: Counting objects:  42% (3/7)\u001b[K\rremote: Counting objects:  57% (4/7)\u001b[K\rremote: Counting objects:  71% (5/7)\u001b[K\rremote: Counting objects:  85% (6/7)\u001b[K\rremote: Counting objects: 100% (7/7)\u001b[K\rremote: Counting objects: 100% (7/7), done.\u001b[K\n",
            "remote: Compressing objects:  25% (1/4)\u001b[K\rremote: Compressing objects:  50% (2/4)\u001b[K\rremote: Compressing objects:  75% (3/4)\u001b[K\rremote: Compressing objects: 100% (4/4)\u001b[K\rremote: Compressing objects: 100% (4/4), done.\u001b[K\n",
            "remote: Total 4 (delta 3), reused 0 (delta 0), pack-reused 0\u001b[K\n",
            "Unpacking objects: 100% (4/4), 1.84 KiB | 5.00 KiB/s, done.\n",
            "From https://github.com/rhailper/milestoneII\n",
            "   59eaef5..1a5945d  main       -> origin/main\n",
            "Updating 59eaef5..1a5945d\n",
            "Fast-forward\n",
            " .../SIADS696_DataExplorationAndCleaning.ipynb      | 1188 \u001b[32m+++\u001b[m\u001b[31m-----------------\u001b[m\n",
            " 1 file changed, 147 insertions(+), 1041 deletions(-)\n"
          ]
        }
      ]
    },
    {
      "cell_type": "markdown",
      "source": [
        "# Import and do basic cleaning to files"
      ],
      "metadata": {
        "id": "XInru0t6D9II"
      }
    },
    {
      "cell_type": "code",
      "source": [
        "import pandas as pd\n",
        "import numpy as numpy\n",
        "import itertools\n",
        "from ast import literal_eval\n",
        "from pandas.api.types import CategoricalDtype\n",
        "from sklearn.preprocessing import OneHotEncoder\n",
        "from sklearn.compose import make_column_transformer\n",
        "from sklearn.preprocessing import MultiLabelBinarizer"
      ],
      "metadata": {
        "id": "Wyjz5ZI6D16T"
      },
      "execution_count": 7,
      "outputs": []
    },
    {
      "cell_type": "markdown",
      "source": [
        "## Client information"
      ],
      "metadata": {
        "id": "hfDse424MSO1"
      }
    },
    {
      "cell_type": "code",
      "source": [
        "# import client info - this file has basic demographic information about the client\n",
        "demo = pd.read_csv('data/input_data/CLIENT_INFORMATION.csv') "
      ],
      "metadata": {
        "id": "1IFdfalfLJC7"
      },
      "execution_count": 8,
      "outputs": []
    },
    {
      "cell_type": "code",
      "source": [
        "# drop row with na values \n",
        "# If a client has na values in this value that means they died or stopped \n",
        "# receiving services from the organization \n",
        "# (it might also be interesting to look at these client)\n",
        "#client_info = client_info.dropna()"
      ],
      "metadata": {
        "id": "9R-8HpC_QfaG"
      },
      "execution_count": 9,
      "outputs": []
    },
    {
      "cell_type": "markdown",
      "source": [
        "Due to the deidentification process, this dataset was not allowed to disclose the exact age of any client over the age of 90. Any client over the age of 90 was coded as 90+ so this needs to be changed in order to make the feature numerical."
      ],
      "metadata": {
        "id": "D8LSv6pYBvxb"
      }
    },
    {
      "cell_type": "code",
      "source": [
        "# replace '90+' with 90\n",
        "demo['Age'] = demo['Age'].str.replace('90+','90',regex=False)#.astype(int)"
      ],
      "metadata": {
        "id": "yBEvCIBhLqTI"
      },
      "execution_count": 10,
      "outputs": []
    },
    {
      "cell_type": "code",
      "source": [
        "# convert categorical variables into one hot encoded dummy variables\n",
        "df = pd.get_dummies(demo, columns=['Gender','Federal Poverty','Race','Primary Funding Source','Multiple Funding Sources?'])"
      ],
      "metadata": {
        "id": "8RqTJhSHQdL_"
      },
      "execution_count": 11,
      "outputs": []
    },
    {
      "cell_type": "markdown",
      "source": [
        "#### Client services\n"
      ],
      "metadata": {
        "id": "hGNtJtj0Rh4F"
      }
    },
    {
      "cell_type": "code",
      "source": [
        "# import client services - this files contains service utilization\n",
        "serv = pd.read_csv('data/input_data/CLIENT_SERVICES.csv') "
      ],
      "metadata": {
        "id": "0TwJDorsReM1"
      },
      "execution_count": 12,
      "outputs": []
    },
    {
      "cell_type": "code",
      "source": [
        "# convert service column from string to list\n",
        "serv['Services'] = serv['Services'].apply(literal_eval)"
      ],
      "metadata": {
        "id": "oTBdeh8u8cng"
      },
      "execution_count": 13,
      "outputs": []
    },
    {
      "cell_type": "code",
      "source": [
        "# get only 2022\n",
        "serv = serv[serv['Year']==2022]"
      ],
      "metadata": {
        "id": "QCAOQrDNyLVc"
      },
      "execution_count": 14,
      "outputs": []
    },
    {
      "cell_type": "code",
      "source": [
        "# get the total service cost per client 2022\n",
        "service_costs_total = pd.DataFrame(serv.groupby('ID')['Cost of Serivces'].sum()).reset_index()\n",
        "service_costs_total.columns = ['ID','service_costs_total']"
      ],
      "metadata": {
        "id": "EwCfdQkPxMhg"
      },
      "execution_count": 15,
      "outputs": []
    },
    {
      "cell_type": "code",
      "source": [
        "# get the avg service cost per month per client 2022\n",
        "service_costs_avg = pd.DataFrame(serv.groupby('ID')['Cost of Serivces'].mean()).reset_index()\n",
        "service_costs_avg.columns=['ID','service_costs_avg']"
      ],
      "metadata": {
        "id": "oEkSpwTJxUwS"
      },
      "execution_count": 16,
      "outputs": []
    },
    {
      "cell_type": "markdown",
      "source": [
        "In addition to the costs of services for each client, from this table we can get the number and type of services each client recieves. The types of services will need to be one hot encoded. "
      ],
      "metadata": {
        "id": "rPKNvFGKxjbS"
      }
    },
    {
      "cell_type": "code",
      "source": [
        "# get list of all unique services a client had in 2022\n",
        "# get a list of unique services by client\n",
        "num_unique_services = pd.DataFrame(serv.groupby('ID').apply(lambda x : len(set(x['Services'].sum())))).reset_index().rename({0:'num_unique_services'},axis=1)"
      ],
      "metadata": {
        "id": "qinDnM0WxfHL"
      },
      "execution_count": 17,
      "outputs": []
    },
    {
      "cell_type": "code",
      "source": [
        "# get the list of services as one hot encodings\n",
        "unique_services = serv.groupby('ID').apply(lambda x : set(x['Services'].sum()))\n",
        "mlb = MultiLabelBinarizer()\n",
        "\n",
        "unique_services_one_hot = pd.DataFrame(mlb.fit_transform(unique_services),\n",
        "                   columns=mlb.classes_,\n",
        "                   index=unique_services.index)\n",
        "unique_services_one_hot = unique_services_one_hot.reset_index()"
      ],
      "metadata": {
        "id": "LoXF1jAB3Uz-"
      },
      "execution_count": 18,
      "outputs": []
    },
    {
      "cell_type": "code",
      "source": [
        "# add new features to main df\n",
        "df = df.merge(service_costs_total,how='left')\n",
        "df = df.merge(service_costs_avg,how='left')\n",
        "df = df.merge(num_unique_services,how='left')\n",
        "df = df.merge(unique_services_one_hot,how='left')"
      ],
      "metadata": {
        "id": "x7onCs308RDw"
      },
      "execution_count": 19,
      "outputs": []
    },
    {
      "cell_type": "markdown",
      "source": [
        "#### Diagnoses"
      ],
      "metadata": {
        "id": "phX1-iR_9WFw"
      }
    },
    {
      "cell_type": "code",
      "source": [
        "# import diagnoses - this gile contains client diagnoses based on ICD-10 codes\n",
        "diag = pd.read_csv('data/input_data/DIAGNOSES.csv') "
      ],
      "metadata": {
        "id": "oBRhyCff9VSn"
      },
      "execution_count": 20,
      "outputs": []
    },
    {
      "cell_type": "markdown",
      "source": [
        "#### Questionaire"
      ],
      "metadata": {
        "id": "7KeGBoFw_UMo"
      }
    },
    {
      "cell_type": "code",
      "source": [
        "# import questionaire - this file contains information about clients ability to complete daily activities \n",
        "quest = pd.read_csv('data/input_data/QUESTIONAIRE.csv') "
      ],
      "metadata": {
        "id": "B0Q49fKq_ZSp"
      },
      "execution_count": 21,
      "outputs": []
    },
    {
      "cell_type": "code",
      "source": [
        "# get the most recent annual questionaire for each client \n",
        "# keep only the long form of the questionaire (removes nas)\n",
        "quest = quest[quest['AssesmentType']!=2] \n",
        "\n",
        "# convert InterRAI Period to ordered categorical to be able to sort by date\n",
        "cat_type = CategoricalDtype(categories=[ 'JUL_DEC2020','JAN_JUN2021', \n",
        "                                        'JUL_DEC2021','JAN_JUN2022', \n",
        "                                        'JUL_DEC2022'],ordered=True)\n",
        "quest['InterRAI Period'] = quest['InterRAI Period'].astype(cat_type)\n",
        "\n",
        "# sort newest to oldest\n",
        "quest = quest.sort_values('InterRAI Period',ascending=False) \n",
        "\n",
        "# get most recent for each client\n",
        "quest = quest.groupby('ID').first()"
      ],
      "metadata": {
        "id": "B731-Ir7UxtM"
      },
      "execution_count": 22,
      "outputs": []
    },
    {
      "cell_type": "code",
      "source": [
        "# drop irrelevant columns \n",
        "quest = quest.drop(['InterRAI Period','AssesmentType','A8_AssessmentReasonType_Value',\n",
        "            'A10_GoalsOfCare','A10_PrimaryGoal'],axis=1)"
      ],
      "metadata": {
        "id": "vbbnMCSHFhYy"
      },
      "execution_count": 23,
      "outputs": []
    },
    {
      "cell_type": "code",
      "source": [
        "# convert categorical to one hot encodings \n",
        "quest_one_hot = pd.get_dummies(quest, columns=['A4_MaritalStatusType_Value',\n",
        "                                               'A12_ResidentialStatusType_Value',\n",
        "                                               'A13A_LivingArrangementType_Value',\n",
        "                                              'A13B_LivesSomeoneNewBooleanType_Value',\n",
        "                                               'B3_PrimaryLanguageType_Value'])"
      ],
      "metadata": {
        "id": "DWKGGX-_GAnb"
      },
      "execution_count": 24,
      "outputs": []
    },
    {
      "cell_type": "code",
      "source": [
        "# add to main df\n",
        "df = df.merge(quest_one_hot,on=['ID'],how='left')"
      ],
      "metadata": {
        "id": "A2kLfUWOG5NT"
      },
      "execution_count": 25,
      "outputs": []
    },
    {
      "cell_type": "markdown",
      "source": [
        "#### Hospitalzations (will be outcome variable for supervised learning)"
      ],
      "metadata": {
        "id": "4wfKen-Z6lBn"
      }
    },
    {
      "cell_type": "code",
      "source": [
        "# import hospitalzations - this file contains information about client hospitalzations in the past 2 years\n",
        "hosp = pd.read_csv('data/input_data/HOSPITALIZATIONS.csv') "
      ],
      "metadata": {
        "id": "s-cy7E6c6jvO"
      },
      "execution_count": 26,
      "outputs": []
    },
    {
      "cell_type": "code",
      "source": [
        "# get the total number of emergecy room visits in 2022 per client (feature)\n",
        "emerg_total_2022 = hosp[(hosp['Year']==2022)&(hosp['Admittype']=='Emergency')].groupby('ID')['Number Hospitalzations'].sum()\n",
        "emerg_total_2022.name = 'emerg_total_2022'\n",
        "\n",
        "# get the total number of health care visits in 2022 per client (feature)\n",
        "health_visits_total_2022 = hosp[(hosp['Year']==2022)].groupby('ID')['Number Hospitalzations'].sum()\n",
        "health_visits_total_2022.name = 'health_visits_total_2022'\n",
        "\n",
        "# get the average emergency room visits per month in 2022 per client (feature)\n",
        "emerg_avg_2022 = hosp[(hosp['Year']==2022)&(hosp['Admittype']=='Emergency')].groupby('ID')['Number Hospitalzations'].mean()\n",
        "emerg_avg_2022.name = 'emerg_avg_2022'\n",
        "\n",
        "# get the average health care visits per month in 2022 per client (feature)\n",
        "health_visits_avg_2022 = hosp[(hosp['Year']==2022)].groupby('ID')['Number Hospitalzations'].mean()\n",
        "health_visits_avg_2022.name = 'health_visits_avg_2022'\n",
        "\n",
        "# get total number of emergecy room visits per client in Jan,Feb,Mar 2023 (outcome)\n",
        "emerg_total_2023 = hosp[(hosp['Year']==2023)&(hosp['Admittype']=='Emergency')].groupby('ID')['Number Hospitalzations'].sum()\n",
        "emerg_total_2023.name = 'emerg_total_2023'\n",
        "\n",
        "# get average number of emergecy room visits per client in Jan,Feb,Mar 2023 (outcome)\n",
        "emerg_avg_2023 = hosp[(hosp['Year']==2023)&(hosp['Admittype']=='Emergency')].groupby('ID')['Number Hospitalzations'].mean()\n",
        "emerg_avg_2023.name = 'emerg_avg_2023'\n",
        "\n",
        "# get total number of health care visits per client in Jan,Feb,Mar 2023 (outcome)\n",
        "health_visits_total_2023 = hosp[(hosp['Year']==2023)].groupby('ID')['Number Hospitalzations'].sum()\n",
        "health_visits_total_2023.name = 'health_visits_total_2023'\n",
        "\n",
        "# get average number of health care visits per client in Jan,Feb,Mar 2023 (outcome)\n",
        "health_visits_avg_2023 = hosp[(hosp['Year']==2023)].groupby('ID')['Number Hospitalzations'].mean()\n",
        "health_visits_avg_2023.name = 'health_visits_avg_2023'"
      ],
      "metadata": {
        "id": "Xx6xFBJNT-XX"
      },
      "execution_count": 27,
      "outputs": []
    },
    {
      "cell_type": "code",
      "source": [
        "hosp_features = pd.concat([emerg_total_2022,health_visits_total_2022,\n",
        "                           emerg_avg_2022,health_visits_avg_2022],axis=1).reset_index()\n",
        "hosp_outcomes = pd.concat([emerg_total_2023, emerg_avg_2023,\n",
        "                           health_visits_total_2023, health_visits_avg_2023],axis=1).reset_index()"
      ],
      "metadata": {
        "id": "jpn9Ce63WdgP"
      },
      "execution_count": 28,
      "outputs": []
    },
    {
      "cell_type": "code",
      "source": [
        "# add features to main df\n",
        "df = df.merge(hosp_features,on=['ID'],how='left')\n",
        "# add outcomes to main df\n",
        "df = df.merge(hosp_outcomes,on=['ID'],how='left')"
      ],
      "metadata": {
        "id": "OHPdCfwT5QJJ"
      },
      "execution_count": 29,
      "outputs": []
    },
    {
      "cell_type": "code",
      "source": [
        "# fill hosp nas with zeros becuase in this case if it's na then this means the \n",
        "# client did not visit the hospital in given time frame\n",
        "for col in ['emerg_total_2022','health_visits_total_2022',\n",
        "            'emerg_avg_2022','health_visits_avg_2022',\n",
        "            'emerg_total_2023', 'emerg_avg_2023',\n",
        "            'health_visits_total_2023', 'health_visits_avg_2023']:\n",
        "  df[col] = df[col].fillna(0)"
      ],
      "metadata": {
        "id": "PIDYg-Tw56yp"
      },
      "execution_count": 30,
      "outputs": []
    },
    {
      "cell_type": "code",
      "source": [
        "df"
      ],
      "metadata": {
        "id": "80jPQvJ674_j",
        "outputId": "28051188-1e35-4942-fb4f-55840dba037d",
        "colab": {
          "base_uri": "https://localhost:8080/",
          "height": 522
        }
      },
      "execution_count": 31,
      "outputs": [
        {
          "output_type": "execute_result",
          "data": {
            "text/plain": [
              "           ID Age  Federal % of Poverty  ADL Count  Critical Need Count  \\\n",
              "0          10  38                  87.0        4.0                  0.0   \n",
              "1      100035  52                  73.0        6.0                  1.0   \n",
              "2      100048  90                 124.0        NaN                  NaN   \n",
              "3      100061  53                  51.0        6.0                  1.0   \n",
              "4      100073  69                  65.0        0.0                  2.0   \n",
              "...       ...  ..                   ...        ...                  ...   \n",
              "13598   99910  67                 145.0        5.0                  1.0   \n",
              "13599   99919  90                  96.0        7.0                  1.0   \n",
              "13600   99963  55                  76.0        5.0                  2.0   \n",
              "13601   99967  60                  72.0        5.0                  1.0   \n",
              "13602   99976  60                 138.0        4.0                  1.0   \n",
              "\n",
              "       IADL Count  Skilled Need Count  Nutrition Score  Gender_Female  \\\n",
              "0             5.0                 0.0              0.0              0   \n",
              "1             8.0                 0.0              3.0              1   \n",
              "2             NaN                 NaN              NaN              0   \n",
              "3             6.0                 0.0              3.0              1   \n",
              "4             1.0                 0.0              8.0              0   \n",
              "...           ...                 ...              ...            ...   \n",
              "13598         7.0                 0.0              3.0              1   \n",
              "13599         8.0                 0.0              6.0              1   \n",
              "13600         6.0                 0.0              9.0              1   \n",
              "13601         5.0                 0.0              8.0              1   \n",
              "13602         5.0                 0.0              4.0              1   \n",
              "\n",
              "       Gender_Male  ...  B3_PrimaryLanguageType_Value_3.0  \\\n",
              "0                1  ...                               0.0   \n",
              "1                0  ...                               0.0   \n",
              "2                1  ...                               NaN   \n",
              "3                0  ...                               0.0   \n",
              "4                1  ...                               NaN   \n",
              "...            ...  ...                               ...   \n",
              "13598            0  ...                               0.0   \n",
              "13599            0  ...                               0.0   \n",
              "13600            0  ...                               0.0   \n",
              "13601            0  ...                               0.0   \n",
              "13602            0  ...                               0.0   \n",
              "\n",
              "       B3_PrimaryLanguageType_Value_4.0  emerg_total_2022  \\\n",
              "0                                   0.0               0.0   \n",
              "1                                   0.0               0.0   \n",
              "2                                   NaN               2.0   \n",
              "3                                   0.0               0.0   \n",
              "4                                   NaN               0.0   \n",
              "...                                 ...               ...   \n",
              "13598                               0.0               0.0   \n",
              "13599                               0.0              11.0   \n",
              "13600                               0.0               3.0   \n",
              "13601                               0.0               0.0   \n",
              "13602                               0.0               1.0   \n",
              "\n",
              "       health_visits_total_2022  emerg_avg_2022  health_visits_avg_2022  \\\n",
              "0                           3.0        0.000000                1.000000   \n",
              "1                          33.0        0.000000                3.000000   \n",
              "2                           4.0        1.000000                1.000000   \n",
              "3                           9.0        0.000000                1.285714   \n",
              "4                           7.0        0.000000                1.750000   \n",
              "...                         ...             ...                     ...   \n",
              "13598                       0.0        0.000000                0.000000   \n",
              "13599                      35.0        1.833333                2.500000   \n",
              "13600                      25.0        1.000000                2.272727   \n",
              "13601                      22.0        0.000000                2.444444   \n",
              "13602                       2.0        1.000000                1.000000   \n",
              "\n",
              "       emerg_total_2023  emerg_avg_2023  health_visits_total_2023  \\\n",
              "0                   0.0             0.0                       4.0   \n",
              "1                   0.0             0.0                      11.0   \n",
              "2                   0.0             0.0                       0.0   \n",
              "3                   0.0             0.0                       4.0   \n",
              "4                   0.0             0.0                       2.0   \n",
              "...                 ...             ...                       ...   \n",
              "13598               0.0             0.0                       0.0   \n",
              "13599               0.0             0.0                      12.0   \n",
              "13600               2.0             1.0                       7.0   \n",
              "13601               1.0             1.0                      23.0   \n",
              "13602               0.0             0.0                       1.0   \n",
              "\n",
              "       health_visits_avg_2023  \n",
              "0                    1.333333  \n",
              "1                    3.666667  \n",
              "2                    0.000000  \n",
              "3                    2.000000  \n",
              "4                    1.000000  \n",
              "...                       ...  \n",
              "13598                0.000000  \n",
              "13599               12.000000  \n",
              "13600                1.166667  \n",
              "13601                5.750000  \n",
              "13602                1.000000  \n",
              "\n",
              "[13603 rows x 304 columns]"
            ],
            "text/html": [
              "\n",
              "  <div id=\"df-486ca8df-890a-4734-86a3-606347e1f6e5\">\n",
              "    <div class=\"colab-df-container\">\n",
              "      <div>\n",
              "<style scoped>\n",
              "    .dataframe tbody tr th:only-of-type {\n",
              "        vertical-align: middle;\n",
              "    }\n",
              "\n",
              "    .dataframe tbody tr th {\n",
              "        vertical-align: top;\n",
              "    }\n",
              "\n",
              "    .dataframe thead th {\n",
              "        text-align: right;\n",
              "    }\n",
              "</style>\n",
              "<table border=\"1\" class=\"dataframe\">\n",
              "  <thead>\n",
              "    <tr style=\"text-align: right;\">\n",
              "      <th></th>\n",
              "      <th>ID</th>\n",
              "      <th>Age</th>\n",
              "      <th>Federal % of Poverty</th>\n",
              "      <th>ADL Count</th>\n",
              "      <th>Critical Need Count</th>\n",
              "      <th>IADL Count</th>\n",
              "      <th>Skilled Need Count</th>\n",
              "      <th>Nutrition Score</th>\n",
              "      <th>Gender_Female</th>\n",
              "      <th>Gender_Male</th>\n",
              "      <th>...</th>\n",
              "      <th>B3_PrimaryLanguageType_Value_3.0</th>\n",
              "      <th>B3_PrimaryLanguageType_Value_4.0</th>\n",
              "      <th>emerg_total_2022</th>\n",
              "      <th>health_visits_total_2022</th>\n",
              "      <th>emerg_avg_2022</th>\n",
              "      <th>health_visits_avg_2022</th>\n",
              "      <th>emerg_total_2023</th>\n",
              "      <th>emerg_avg_2023</th>\n",
              "      <th>health_visits_total_2023</th>\n",
              "      <th>health_visits_avg_2023</th>\n",
              "    </tr>\n",
              "  </thead>\n",
              "  <tbody>\n",
              "    <tr>\n",
              "      <th>0</th>\n",
              "      <td>10</td>\n",
              "      <td>38</td>\n",
              "      <td>87.0</td>\n",
              "      <td>4.0</td>\n",
              "      <td>0.0</td>\n",
              "      <td>5.0</td>\n",
              "      <td>0.0</td>\n",
              "      <td>0.0</td>\n",
              "      <td>0</td>\n",
              "      <td>1</td>\n",
              "      <td>...</td>\n",
              "      <td>0.0</td>\n",
              "      <td>0.0</td>\n",
              "      <td>0.0</td>\n",
              "      <td>3.0</td>\n",
              "      <td>0.000000</td>\n",
              "      <td>1.000000</td>\n",
              "      <td>0.0</td>\n",
              "      <td>0.0</td>\n",
              "      <td>4.0</td>\n",
              "      <td>1.333333</td>\n",
              "    </tr>\n",
              "    <tr>\n",
              "      <th>1</th>\n",
              "      <td>100035</td>\n",
              "      <td>52</td>\n",
              "      <td>73.0</td>\n",
              "      <td>6.0</td>\n",
              "      <td>1.0</td>\n",
              "      <td>8.0</td>\n",
              "      <td>0.0</td>\n",
              "      <td>3.0</td>\n",
              "      <td>1</td>\n",
              "      <td>0</td>\n",
              "      <td>...</td>\n",
              "      <td>0.0</td>\n",
              "      <td>0.0</td>\n",
              "      <td>0.0</td>\n",
              "      <td>33.0</td>\n",
              "      <td>0.000000</td>\n",
              "      <td>3.000000</td>\n",
              "      <td>0.0</td>\n",
              "      <td>0.0</td>\n",
              "      <td>11.0</td>\n",
              "      <td>3.666667</td>\n",
              "    </tr>\n",
              "    <tr>\n",
              "      <th>2</th>\n",
              "      <td>100048</td>\n",
              "      <td>90</td>\n",
              "      <td>124.0</td>\n",
              "      <td>NaN</td>\n",
              "      <td>NaN</td>\n",
              "      <td>NaN</td>\n",
              "      <td>NaN</td>\n",
              "      <td>NaN</td>\n",
              "      <td>0</td>\n",
              "      <td>1</td>\n",
              "      <td>...</td>\n",
              "      <td>NaN</td>\n",
              "      <td>NaN</td>\n",
              "      <td>2.0</td>\n",
              "      <td>4.0</td>\n",
              "      <td>1.000000</td>\n",
              "      <td>1.000000</td>\n",
              "      <td>0.0</td>\n",
              "      <td>0.0</td>\n",
              "      <td>0.0</td>\n",
              "      <td>0.000000</td>\n",
              "    </tr>\n",
              "    <tr>\n",
              "      <th>3</th>\n",
              "      <td>100061</td>\n",
              "      <td>53</td>\n",
              "      <td>51.0</td>\n",
              "      <td>6.0</td>\n",
              "      <td>1.0</td>\n",
              "      <td>6.0</td>\n",
              "      <td>0.0</td>\n",
              "      <td>3.0</td>\n",
              "      <td>1</td>\n",
              "      <td>0</td>\n",
              "      <td>...</td>\n",
              "      <td>0.0</td>\n",
              "      <td>0.0</td>\n",
              "      <td>0.0</td>\n",
              "      <td>9.0</td>\n",
              "      <td>0.000000</td>\n",
              "      <td>1.285714</td>\n",
              "      <td>0.0</td>\n",
              "      <td>0.0</td>\n",
              "      <td>4.0</td>\n",
              "      <td>2.000000</td>\n",
              "    </tr>\n",
              "    <tr>\n",
              "      <th>4</th>\n",
              "      <td>100073</td>\n",
              "      <td>69</td>\n",
              "      <td>65.0</td>\n",
              "      <td>0.0</td>\n",
              "      <td>2.0</td>\n",
              "      <td>1.0</td>\n",
              "      <td>0.0</td>\n",
              "      <td>8.0</td>\n",
              "      <td>0</td>\n",
              "      <td>1</td>\n",
              "      <td>...</td>\n",
              "      <td>NaN</td>\n",
              "      <td>NaN</td>\n",
              "      <td>0.0</td>\n",
              "      <td>7.0</td>\n",
              "      <td>0.000000</td>\n",
              "      <td>1.750000</td>\n",
              "      <td>0.0</td>\n",
              "      <td>0.0</td>\n",
              "      <td>2.0</td>\n",
              "      <td>1.000000</td>\n",
              "    </tr>\n",
              "    <tr>\n",
              "      <th>...</th>\n",
              "      <td>...</td>\n",
              "      <td>...</td>\n",
              "      <td>...</td>\n",
              "      <td>...</td>\n",
              "      <td>...</td>\n",
              "      <td>...</td>\n",
              "      <td>...</td>\n",
              "      <td>...</td>\n",
              "      <td>...</td>\n",
              "      <td>...</td>\n",
              "      <td>...</td>\n",
              "      <td>...</td>\n",
              "      <td>...</td>\n",
              "      <td>...</td>\n",
              "      <td>...</td>\n",
              "      <td>...</td>\n",
              "      <td>...</td>\n",
              "      <td>...</td>\n",
              "      <td>...</td>\n",
              "      <td>...</td>\n",
              "      <td>...</td>\n",
              "    </tr>\n",
              "    <tr>\n",
              "      <th>13598</th>\n",
              "      <td>99910</td>\n",
              "      <td>67</td>\n",
              "      <td>145.0</td>\n",
              "      <td>5.0</td>\n",
              "      <td>1.0</td>\n",
              "      <td>7.0</td>\n",
              "      <td>0.0</td>\n",
              "      <td>3.0</td>\n",
              "      <td>1</td>\n",
              "      <td>0</td>\n",
              "      <td>...</td>\n",
              "      <td>0.0</td>\n",
              "      <td>0.0</td>\n",
              "      <td>0.0</td>\n",
              "      <td>0.0</td>\n",
              "      <td>0.000000</td>\n",
              "      <td>0.000000</td>\n",
              "      <td>0.0</td>\n",
              "      <td>0.0</td>\n",
              "      <td>0.0</td>\n",
              "      <td>0.000000</td>\n",
              "    </tr>\n",
              "    <tr>\n",
              "      <th>13599</th>\n",
              "      <td>99919</td>\n",
              "      <td>90</td>\n",
              "      <td>96.0</td>\n",
              "      <td>7.0</td>\n",
              "      <td>1.0</td>\n",
              "      <td>8.0</td>\n",
              "      <td>0.0</td>\n",
              "      <td>6.0</td>\n",
              "      <td>1</td>\n",
              "      <td>0</td>\n",
              "      <td>...</td>\n",
              "      <td>0.0</td>\n",
              "      <td>0.0</td>\n",
              "      <td>11.0</td>\n",
              "      <td>35.0</td>\n",
              "      <td>1.833333</td>\n",
              "      <td>2.500000</td>\n",
              "      <td>0.0</td>\n",
              "      <td>0.0</td>\n",
              "      <td>12.0</td>\n",
              "      <td>12.000000</td>\n",
              "    </tr>\n",
              "    <tr>\n",
              "      <th>13600</th>\n",
              "      <td>99963</td>\n",
              "      <td>55</td>\n",
              "      <td>76.0</td>\n",
              "      <td>5.0</td>\n",
              "      <td>2.0</td>\n",
              "      <td>6.0</td>\n",
              "      <td>0.0</td>\n",
              "      <td>9.0</td>\n",
              "      <td>1</td>\n",
              "      <td>0</td>\n",
              "      <td>...</td>\n",
              "      <td>0.0</td>\n",
              "      <td>0.0</td>\n",
              "      <td>3.0</td>\n",
              "      <td>25.0</td>\n",
              "      <td>1.000000</td>\n",
              "      <td>2.272727</td>\n",
              "      <td>2.0</td>\n",
              "      <td>1.0</td>\n",
              "      <td>7.0</td>\n",
              "      <td>1.166667</td>\n",
              "    </tr>\n",
              "    <tr>\n",
              "      <th>13601</th>\n",
              "      <td>99967</td>\n",
              "      <td>60</td>\n",
              "      <td>72.0</td>\n",
              "      <td>5.0</td>\n",
              "      <td>1.0</td>\n",
              "      <td>5.0</td>\n",
              "      <td>0.0</td>\n",
              "      <td>8.0</td>\n",
              "      <td>1</td>\n",
              "      <td>0</td>\n",
              "      <td>...</td>\n",
              "      <td>0.0</td>\n",
              "      <td>0.0</td>\n",
              "      <td>0.0</td>\n",
              "      <td>22.0</td>\n",
              "      <td>0.000000</td>\n",
              "      <td>2.444444</td>\n",
              "      <td>1.0</td>\n",
              "      <td>1.0</td>\n",
              "      <td>23.0</td>\n",
              "      <td>5.750000</td>\n",
              "    </tr>\n",
              "    <tr>\n",
              "      <th>13602</th>\n",
              "      <td>99976</td>\n",
              "      <td>60</td>\n",
              "      <td>138.0</td>\n",
              "      <td>4.0</td>\n",
              "      <td>1.0</td>\n",
              "      <td>5.0</td>\n",
              "      <td>0.0</td>\n",
              "      <td>4.0</td>\n",
              "      <td>1</td>\n",
              "      <td>0</td>\n",
              "      <td>...</td>\n",
              "      <td>0.0</td>\n",
              "      <td>0.0</td>\n",
              "      <td>1.0</td>\n",
              "      <td>2.0</td>\n",
              "      <td>1.000000</td>\n",
              "      <td>1.000000</td>\n",
              "      <td>0.0</td>\n",
              "      <td>0.0</td>\n",
              "      <td>1.0</td>\n",
              "      <td>1.000000</td>\n",
              "    </tr>\n",
              "  </tbody>\n",
              "</table>\n",
              "<p>13603 rows × 304 columns</p>\n",
              "</div>\n",
              "      <button class=\"colab-df-convert\" onclick=\"convertToInteractive('df-486ca8df-890a-4734-86a3-606347e1f6e5')\"\n",
              "              title=\"Convert this dataframe to an interactive table.\"\n",
              "              style=\"display:none;\">\n",
              "        \n",
              "  <svg xmlns=\"http://www.w3.org/2000/svg\" height=\"24px\"viewBox=\"0 0 24 24\"\n",
              "       width=\"24px\">\n",
              "    <path d=\"M0 0h24v24H0V0z\" fill=\"none\"/>\n",
              "    <path d=\"M18.56 5.44l.94 2.06.94-2.06 2.06-.94-2.06-.94-.94-2.06-.94 2.06-2.06.94zm-11 1L8.5 8.5l.94-2.06 2.06-.94-2.06-.94L8.5 2.5l-.94 2.06-2.06.94zm10 10l.94 2.06.94-2.06 2.06-.94-2.06-.94-.94-2.06-.94 2.06-2.06.94z\"/><path d=\"M17.41 7.96l-1.37-1.37c-.4-.4-.92-.59-1.43-.59-.52 0-1.04.2-1.43.59L10.3 9.45l-7.72 7.72c-.78.78-.78 2.05 0 2.83L4 21.41c.39.39.9.59 1.41.59.51 0 1.02-.2 1.41-.59l7.78-7.78 2.81-2.81c.8-.78.8-2.07 0-2.86zM5.41 20L4 18.59l7.72-7.72 1.47 1.35L5.41 20z\"/>\n",
              "  </svg>\n",
              "      </button>\n",
              "      \n",
              "  <style>\n",
              "    .colab-df-container {\n",
              "      display:flex;\n",
              "      flex-wrap:wrap;\n",
              "      gap: 12px;\n",
              "    }\n",
              "\n",
              "    .colab-df-convert {\n",
              "      background-color: #E8F0FE;\n",
              "      border: none;\n",
              "      border-radius: 50%;\n",
              "      cursor: pointer;\n",
              "      display: none;\n",
              "      fill: #1967D2;\n",
              "      height: 32px;\n",
              "      padding: 0 0 0 0;\n",
              "      width: 32px;\n",
              "    }\n",
              "\n",
              "    .colab-df-convert:hover {\n",
              "      background-color: #E2EBFA;\n",
              "      box-shadow: 0px 1px 2px rgba(60, 64, 67, 0.3), 0px 1px 3px 1px rgba(60, 64, 67, 0.15);\n",
              "      fill: #174EA6;\n",
              "    }\n",
              "\n",
              "    [theme=dark] .colab-df-convert {\n",
              "      background-color: #3B4455;\n",
              "      fill: #D2E3FC;\n",
              "    }\n",
              "\n",
              "    [theme=dark] .colab-df-convert:hover {\n",
              "      background-color: #434B5C;\n",
              "      box-shadow: 0px 1px 3px 1px rgba(0, 0, 0, 0.15);\n",
              "      filter: drop-shadow(0px 1px 2px rgba(0, 0, 0, 0.3));\n",
              "      fill: #FFFFFF;\n",
              "    }\n",
              "  </style>\n",
              "\n",
              "      <script>\n",
              "        const buttonEl =\n",
              "          document.querySelector('#df-486ca8df-890a-4734-86a3-606347e1f6e5 button.colab-df-convert');\n",
              "        buttonEl.style.display =\n",
              "          google.colab.kernel.accessAllowed ? 'block' : 'none';\n",
              "\n",
              "        async function convertToInteractive(key) {\n",
              "          const element = document.querySelector('#df-486ca8df-890a-4734-86a3-606347e1f6e5');\n",
              "          const dataTable =\n",
              "            await google.colab.kernel.invokeFunction('convertToInteractive',\n",
              "                                                     [key], {});\n",
              "          if (!dataTable) return;\n",
              "\n",
              "          const docLinkHtml = 'Like what you see? Visit the ' +\n",
              "            '<a target=\"_blank\" href=https://colab.research.google.com/notebooks/data_table.ipynb>data table notebook</a>'\n",
              "            + ' to learn more about interactive tables.';\n",
              "          element.innerHTML = '';\n",
              "          dataTable['output_type'] = 'display_data';\n",
              "          await google.colab.output.renderOutput(dataTable, element);\n",
              "          const docLink = document.createElement('div');\n",
              "          docLink.innerHTML = docLinkHtml;\n",
              "          element.appendChild(docLink);\n",
              "        }\n",
              "      </script>\n",
              "    </div>\n",
              "  </div>\n",
              "  "
            ]
          },
          "metadata": {},
          "execution_count": 31
        }
      ]
    },
    {
      "cell_type": "markdown",
      "source": [
        "## Saving to github"
      ],
      "metadata": {
        "id": "qTxe204G5CPE"
      }
    },
    {
      "cell_type": "code",
      "source": [
        "#%cd /content/drive/MyDrive/Colab Notebooks/milestoneII"
      ],
      "metadata": {
        "id": "Bng6vcFkfnzi"
      },
      "execution_count": 32,
      "outputs": []
    },
    {
      "cell_type": "code",
      "source": [
        "#!git config --global user.email \"rhailper@umich.edu\"\n",
        "#!git config --global user.name \"rhailper\"\n",
        "#!git pull"
      ],
      "metadata": {
        "id": "GCPMjcLOC-7v"
      },
      "execution_count": 33,
      "outputs": []
    },
    {
      "cell_type": "code",
      "source": [
        "#!git remote add origin https://{token}@github.com/rhailper/milestoneII.git"
      ],
      "metadata": {
        "id": "Pe9rrl16g_jL"
      },
      "execution_count": 34,
      "outputs": []
    },
    {
      "cell_type": "code",
      "source": [
        "#!git pull"
      ],
      "metadata": {
        "id": "8w5ZCU73v-VH"
      },
      "execution_count": 35,
      "outputs": []
    },
    {
      "cell_type": "code",
      "source": [
        "#!git checkout main"
      ],
      "metadata": {
        "id": "6F_yt2Phup6b"
      },
      "execution_count": 36,
      "outputs": []
    },
    {
      "cell_type": "code",
      "source": [
        "#!git add .\n",
        "#!git commit -m 'Updates to folder structure'\n",
        "#!git push https://{token}@github.com/rhailper/milestoneII.git"
      ],
      "metadata": {
        "id": "vg7FMvzrD8T2"
      },
      "execution_count": 37,
      "outputs": []
    }
  ]
}