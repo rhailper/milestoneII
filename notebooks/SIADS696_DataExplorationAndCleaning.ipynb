{
  "nbformat": 4,
  "nbformat_minor": 0,
  "metadata": {
    "colab": {
      "provenance": [],
      "include_colab_link": true
    },
    "kernelspec": {
      "name": "python3",
      "display_name": "Python 3"
    },
    "language_info": {
      "name": "python"
    }
  },
  "cells": [
    {
      "cell_type": "markdown",
      "metadata": {
        "id": "view-in-github",
        "colab_type": "text"
      },
      "source": [
        "<a href=\"https://colab.research.google.com/github/rhailper/milestoneII/blob/main/notebooks/SIADS696_DataExplorationAndCleaning.ipynb\" target=\"_parent\"><img src=\"https://colab.research.google.com/assets/colab-badge.svg\" alt=\"Open In Colab\"/></a>"
      ]
    },
    {
      "cell_type": "markdown",
      "source": [
        "### Connect to drive and pull from github"
      ],
      "metadata": {
        "id": "6qA1qHBlDbon"
      }
    },
    {
      "cell_type": "code",
      "source": [
        "from google.colab import drive\n",
        "drive.mount('/content/drive')"
      ],
      "metadata": {
        "id": "jVp1iItRtb1Z",
        "outputId": "ac05fcfd-3a8d-441a-b737-d741e5eca0f9",
        "colab": {
          "base_uri": "https://localhost:8080/"
        }
      },
      "execution_count": 2,
      "outputs": [
        {
          "output_type": "stream",
          "name": "stdout",
          "text": [
            "Mounted at /content/drive\n"
          ]
        }
      ]
    },
    {
      "cell_type": "code",
      "source": [
        "%cd /content/drive/MyDrive/Colab Notebooks"
      ],
      "metadata": {
        "id": "aH30GBtggDvU",
        "outputId": "8961c5b8-be86-454c-c661-a416ed7d8085",
        "colab": {
          "base_uri": "https://localhost:8080/"
        }
      },
      "execution_count": 3,
      "outputs": [
        {
          "output_type": "stream",
          "name": "stdout",
          "text": [
            "/content/drive/MyDrive/Colab Notebooks\n"
          ]
        }
      ]
    },
    {
      "cell_type": "code",
      "source": [
        "from config import *"
      ],
      "metadata": {
        "id": "PdtGAopcDQMf"
      },
      "execution_count": 4,
      "outputs": []
    },
    {
      "cell_type": "code",
      "source": [
        "#!git clone https://{token}@github.com/rhailper/milestoneII.git"
      ],
      "metadata": {
        "id": "B1II3jnwDVsa"
      },
      "execution_count": 6,
      "outputs": []
    },
    {
      "cell_type": "code",
      "source": [
        "%cd /content/drive/MyDrive/Colab Notebooks/milestoneII"
      ],
      "metadata": {
        "id": "Ordo-2YrGnTD",
        "outputId": "ad8bbf63-fd1d-4d24-b3a4-15bc588244e3",
        "colab": {
          "base_uri": "https://localhost:8080/"
        }
      },
      "execution_count": 23,
      "outputs": [
        {
          "output_type": "stream",
          "name": "stdout",
          "text": [
            "/content/drive/MyDrive/Colab Notebooks/milestoneII\n"
          ]
        }
      ]
    },
    {
      "cell_type": "code",
      "source": [
        "!git pull"
      ],
      "metadata": {
        "colab": {
          "base_uri": "https://localhost:8080/"
        },
        "id": "QRkmUE-AC85W",
        "outputId": "f400ade2-4bc5-4f26-fbf7-f952619f4891"
      },
      "execution_count": 24,
      "outputs": [
        {
          "output_type": "stream",
          "name": "stdout",
          "text": [
            "From https://github.com/rhailper/milestoneII\n",
            "   150aecb..59eaef5  main       -> origin/main\n",
            "Already up to date.\n"
          ]
        }
      ]
    },
    {
      "cell_type": "markdown",
      "source": [
        "# Import and do basic cleaning to files"
      ],
      "metadata": {
        "id": "XInru0t6D9II"
      }
    },
    {
      "cell_type": "code",
      "source": [
        "import pandas as pd\n",
        "import numpy as numpy\n",
        "import itertools\n",
        "from ast import literal_eval\n",
        "from sklearn.preprocessing import OneHotEncoder\n",
        "from sklearn.compose import make_column_transformer\n",
        "from sklearn.preprocessing import MultiLabelBinarizer"
      ],
      "metadata": {
        "id": "Wyjz5ZI6D16T"
      },
      "execution_count": 88,
      "outputs": []
    },
    {
      "cell_type": "markdown",
      "source": [
        "## Client information"
      ],
      "metadata": {
        "id": "hfDse424MSO1"
      }
    },
    {
      "cell_type": "code",
      "source": [
        "# import client info - this file has basic demographic information about the client\n",
        "demo = pd.read_csv('data/input_data/CLIENT_INFORMATION.csv') "
      ],
      "metadata": {
        "id": "1IFdfalfLJC7"
      },
      "execution_count": 30,
      "outputs": []
    },
    {
      "cell_type": "code",
      "source": [
        "# drop row with na values \n",
        "# If a client has na values in this value that means they died or stopped \n",
        "# receiving services from the organization \n",
        "# (it might also be interesting to look at these client)\n",
        "#client_info = client_info.dropna()"
      ],
      "metadata": {
        "id": "9R-8HpC_QfaG"
      },
      "execution_count": 31,
      "outputs": []
    },
    {
      "cell_type": "markdown",
      "source": [
        "Due to the deidentification process, this dataset was not allowed to disclose the exact age of any client over the age of 90. Any client over the age of 90 was coded as 90+ so this needs to be changed in order to make the feature numerical."
      ],
      "metadata": {
        "id": "D8LSv6pYBvxb"
      }
    },
    {
      "cell_type": "code",
      "source": [
        "# replace '90+' with 90\n",
        "demo['Age'] = demo['Age'].str.replace('90+','90',regex=False)#.astype(int)"
      ],
      "metadata": {
        "id": "yBEvCIBhLqTI"
      },
      "execution_count": 32,
      "outputs": []
    },
    {
      "cell_type": "code",
      "source": [
        "# convert categorical variables into one hot encoded dummy variables\n",
        "df = pd.get_dummies(demo, columns=['Gender','Federal Poverty','Race','Primary Funding Source','Multiple Funding Sources?'])"
      ],
      "metadata": {
        "id": "8RqTJhSHQdL_"
      },
      "execution_count": 33,
      "outputs": []
    },
    {
      "cell_type": "markdown",
      "source": [
        "#### Client services\n"
      ],
      "metadata": {
        "id": "hGNtJtj0Rh4F"
      }
    },
    {
      "cell_type": "code",
      "source": [
        "# import client services - this files contains service utilization\n",
        "serv = pd.read_csv('data/input_data/CLIENT_SERVICES.csv') "
      ],
      "metadata": {
        "id": "0TwJDorsReM1"
      },
      "execution_count": 75,
      "outputs": []
    },
    {
      "cell_type": "code",
      "source": [
        "# get only 2022\n",
        "serv = serv[serv['Year']==2022]"
      ],
      "metadata": {
        "id": "QCAOQrDNyLVc"
      },
      "execution_count": 76,
      "outputs": []
    },
    {
      "cell_type": "code",
      "source": [
        "# get the total service cost per client 2022\n",
        "service_costs_total = serv.groupby('ID')['Cost of Serivces'].sum()"
      ],
      "metadata": {
        "id": "EwCfdQkPxMhg"
      },
      "execution_count": 77,
      "outputs": []
    },
    {
      "cell_type": "code",
      "source": [
        "# get the avg service cost per month per client 2022\n",
        "service_costs_avg = serv.groupby('ID')['Cost of Serivces'].mean()"
      ],
      "metadata": {
        "id": "oEkSpwTJxUwS"
      },
      "execution_count": 78,
      "outputs": []
    },
    {
      "cell_type": "markdown",
      "source": [
        "In addition to the costs of services for each client, from this table we can get the number and type of services each client recieves. The types of services will need to be one hot encoded. "
      ],
      "metadata": {
        "id": "rPKNvFGKxjbS"
      }
    },
    {
      "cell_type": "code",
      "source": [
        "# get list of all unique services a client had in 2022\n",
        "# convert service column from string to list\n",
        "serv['Services'] = serv['Services'].apply(literal_eval)\n",
        "# get a list of unique services by client\n",
        "num_unique_services = serv.groupby('ID').apply(lambda x : len(set(x['Services'].sum())))"
      ],
      "metadata": {
        "id": "qinDnM0WxfHL"
      },
      "execution_count": 83,
      "outputs": []
    },
    {
      "cell_type": "code",
      "source": [
        "# get the list of services as one hot encodings\n",
        "unique_services = serv.groupby('ID').apply(lambda x : set(x['Services'].sum()))\n",
        "mlb = MultiLabelBinarizer()\n",
        "\n",
        "unique_services_one_hot = pd.DataFrame(mlb.fit_transform(unique_services),\n",
        "                   columns=mlb.classes_,\n",
        "                   index=unique_services.index)"
      ],
      "metadata": {
        "id": "LoXF1jAB3Uz-"
      },
      "execution_count": 94,
      "outputs": []
    },
    {
      "cell_type": "markdown",
      "source": [
        "#### Diagnoses"
      ],
      "metadata": {
        "id": "phX1-iR_9WFw"
      }
    },
    {
      "cell_type": "code",
      "source": [
        "# import diagnoses - this gile contains client diagnoses based on ICD-10 codes\n",
        "diag = pd.read_csv('//content/milestoneII/data/DIAGNOSES.csv') "
      ],
      "metadata": {
        "id": "oBRhyCff9VSn"
      },
      "execution_count": null,
      "outputs": []
    },
    {
      "cell_type": "markdown",
      "source": [
        "#### Questionaire"
      ],
      "metadata": {
        "id": "7KeGBoFw_UMo"
      }
    },
    {
      "cell_type": "code",
      "source": [
        "# import questionaire - this file contains information about clients ability to complete daily activities \n",
        "quest = pd.read_csv('/content/milestoneII/data/QUESTIONAIRE.csv') "
      ],
      "metadata": {
        "id": "B0Q49fKq_ZSp"
      },
      "execution_count": null,
      "outputs": []
    },
    {
      "cell_type": "code",
      "source": [
        "# get the most recent annual questionaire for each client "
      ],
      "metadata": {
        "id": "B731-Ir7UxtM"
      },
      "execution_count": null,
      "outputs": []
    },
    {
      "cell_type": "code",
      "source": [
        "# get the difference in scores between the most recent annual and the previous annual"
      ],
      "metadata": {
        "id": "HBlQI9gnU6jG"
      },
      "execution_count": null,
      "outputs": []
    },
    {
      "cell_type": "code",
      "source": [
        "#quest['InterRAI Period'].unique()"
      ],
      "metadata": {
        "id": "llLKrFlH_Rox"
      },
      "execution_count": null,
      "outputs": []
    },
    {
      "cell_type": "markdown",
      "source": [
        "#### Hospitalzations (will be outcome variable for supervised learning)"
      ],
      "metadata": {
        "id": "4wfKen-Z6lBn"
      }
    },
    {
      "cell_type": "code",
      "source": [
        "def convert_hosp(hosp,year,emerg_only=True):\n",
        "  '''Helper function to conver the hospitalzation dataset \n",
        "     into useable features or outcomes'''\n",
        "  if emerg_only == True:\n",
        "    df = hosp[(hosp['Year']==year)&(hosp['Admittype']=='Emergency')]\n",
        "    total_hosp_emerg_only = df.groupby('ID')['Number Hospitalzations'].sum()\n",
        "    avg_hosp_emerg_only = df.groupby('ID')['Number Hospitalzations'].mean()\n",
        "    return  total_hosp_emerg_only, avg_hosp_emerg_only\n",
        "  else:\n",
        "    df = hosp[(hosp['Year']==year)]\n",
        "    total_hosp = df.groupby('ID')['Number Hospitalzations'].sum()\n",
        "    avg_hosp = df.groupby('ID')['Number Hospitalzations'].mean()\n",
        "    return  total_hosp, avg_hosp"
      ],
      "metadata": {
        "id": "D2ZSnMCzZzkU"
      },
      "execution_count": null,
      "outputs": []
    },
    {
      "cell_type": "code",
      "source": [
        "# import hospitalzations - this file contains information about client hospitalzations in the past 2 years\n",
        "hosp = pd.read_csv('data/HOSPITALIZATIONS.csv') "
      ],
      "metadata": {
        "id": "s-cy7E6c6jvO"
      },
      "execution_count": null,
      "outputs": []
    },
    {
      "cell_type": "code",
      "source": [
        "hosp_features_and_outcomes = []\n",
        "for k,v in {'emerg_total_2022':[2022,True],'health_visits_total_2022':[2022,True],'emerg_avg_2022':,\n",
        "                 'health_visits_avg_2022':,'emerg_total_2023':,'emerg_avg_2023':,\n",
        "                 'health_visits_total_2023':,'health_visits_avg_2023':}:\n",
        "  convert_hosp(hosp,year,emerg_only=True)  "
      ],
      "metadata": {
        "id": "q2KHyHqQcACH"
      },
      "execution_count": null,
      "outputs": []
    },
    {
      "cell_type": "code",
      "source": [
        "# get the total number of emergecy room visits in 2022 per client (feature)\n",
        "emerg_total_2022.name = 'emerg_total_2022'"
      ],
      "metadata": {
        "id": "rGdjWr6EbezO"
      },
      "execution_count": null,
      "outputs": []
    },
    {
      "cell_type": "code",
      "source": [
        "# get the total number of emergecy room visits in 2022 per client (feature)\n",
        "emerg_total_2022 = hosp[(hosp['Year']==2022)&(hosp['Admittype']=='Emergency')].groupby('ID')['Number Hospitalzations'].sum()\n",
        "\n",
        "# get the total number of health care visits in 2022 per client (feature)\n",
        "health_visits_total_2022 = hosp[(hosp['Year']==2022)].groupby('ID')['Number Hospitalzations'].sum()\n",
        "\n",
        "# get the average emergency room visits per month in 2022 per client (feature)\n",
        "emerg_avg_2022 = hosp[(hosp['Year']==2022)&(hosp['Admittype']=='Emergency')].groupby('ID')['Number Hospitalzations'].mean()\n",
        "\n",
        "# get the average health care visits per month in 2022 per client (feature)\n",
        "health_visits_avg_2022 = hosp[(hosp['Year']==2022)].groupby('ID')['Number Hospitalzations'].mean()\n",
        "\n",
        "# get total number of emergecy room visits per client in Jan,Feb,Mar 2023 (outcome)\n",
        "emerg_total_2023 = hosp[(hosp['Year']==2023)&(hosp['Admittype']=='Emergency')].groupby('ID')['Number Hospitalzations'].sum()\n",
        "\n",
        "# get average number of emergecy room visits per client in Jan,Feb,Mar 2023 (outcome)\n",
        "emerg_avg_2023 = hosp[(hosp['Year']==2023)&(hosp['Admittype']=='Emergency')].groupby('ID')['Number Hospitalzations'].mean()\n",
        "\n",
        "# get total number of health care visits per client in Jan,Feb,Mar 2023 (outcome)\n",
        "health_visits_total_2023 = hosp[(hosp['Year']==2023)].groupby('ID')['Number Hospitalzations'].sum()\n",
        "\n",
        "# get average number of health care visits per client in Jan,Feb,Mar 2023 (outcome)\n",
        "health_visits_avg_2023 = hosp[(hosp['Year']==2023)].groupby('ID')['Number Hospitalzations'].mean()"
      ],
      "metadata": {
        "id": "Xx6xFBJNT-XX"
      },
      "execution_count": null,
      "outputs": []
    },
    {
      "cell_type": "code",
      "source": [
        "pd.concat([emerg_total_2022,health_visits_total_2022,emerg_avg_2022,\n",
        "           emerg_total_2023, emerg_avg_2023,\n",
        "           health_visits_total_2023,health_visits_avg_2023],axis=1)"
      ],
      "metadata": {
        "id": "jpn9Ce63WdgP",
        "outputId": "4fdf405a-f906-4f8e-8de3-71d56ca21645",
        "colab": {
          "base_uri": "https://localhost:8080/",
          "height": 516
        }
      },
      "execution_count": null,
      "outputs": [
        {
          "output_type": "execute_result",
          "data": {
            "text/plain": [
              "        emerg_total_2022  Number Hospitalzations  Number Hospitalzations  \\\n",
              "ID                                                                         \n",
              "62                   1.0                    19.0                     1.0   \n",
              "112                  3.0                    12.0                     1.0   \n",
              "167                  2.0                    10.0                     1.0   \n",
              "210                  1.0                     3.0                     1.0   \n",
              "234                  4.0                     9.0                     1.0   \n",
              "...                  ...                     ...                     ...   \n",
              "225490               NaN                     NaN                     NaN   \n",
              "225730               NaN                     NaN                     NaN   \n",
              "225990               NaN                     NaN                     NaN   \n",
              "226131               NaN                     NaN                     NaN   \n",
              "226333               NaN                     NaN                     NaN   \n",
              "\n",
              "        Number Hospitalzations  Number Hospitalzations  \\\n",
              "ID                                                       \n",
              "62                         NaN                     NaN   \n",
              "112                        NaN                     NaN   \n",
              "167                        NaN                     NaN   \n",
              "210                        NaN                     NaN   \n",
              "234                        NaN                     NaN   \n",
              "...                        ...                     ...   \n",
              "225490                     NaN                     NaN   \n",
              "225730                     NaN                     NaN   \n",
              "225990                     NaN                     NaN   \n",
              "226131                     NaN                     NaN   \n",
              "226333                     NaN                     NaN   \n",
              "\n",
              "        Number Hospitalzations  Number Hospitalzations  \n",
              "ID                                                      \n",
              "62                         6.0                3.000000  \n",
              "112                        5.0                1.666667  \n",
              "167                        4.0                1.333333  \n",
              "210                        NaN                     NaN  \n",
              "234                        3.0                1.500000  \n",
              "...                        ...                     ...  \n",
              "225490                     1.0                1.000000  \n",
              "225730                     1.0                1.000000  \n",
              "225990                     1.0                1.000000  \n",
              "226131                     1.0                1.000000  \n",
              "226333                     1.0                1.000000  \n",
              "\n",
              "[13315 rows x 7 columns]"
            ],
            "text/html": [
              "\n",
              "  <div id=\"df-d3d0a216-35ce-4022-9854-e1c87b6f9697\">\n",
              "    <div class=\"colab-df-container\">\n",
              "      <div>\n",
              "<style scoped>\n",
              "    .dataframe tbody tr th:only-of-type {\n",
              "        vertical-align: middle;\n",
              "    }\n",
              "\n",
              "    .dataframe tbody tr th {\n",
              "        vertical-align: top;\n",
              "    }\n",
              "\n",
              "    .dataframe thead th {\n",
              "        text-align: right;\n",
              "    }\n",
              "</style>\n",
              "<table border=\"1\" class=\"dataframe\">\n",
              "  <thead>\n",
              "    <tr style=\"text-align: right;\">\n",
              "      <th></th>\n",
              "      <th>emerg_total_2022</th>\n",
              "      <th>Number Hospitalzations</th>\n",
              "      <th>Number Hospitalzations</th>\n",
              "      <th>Number Hospitalzations</th>\n",
              "      <th>Number Hospitalzations</th>\n",
              "      <th>Number Hospitalzations</th>\n",
              "      <th>Number Hospitalzations</th>\n",
              "    </tr>\n",
              "    <tr>\n",
              "      <th>ID</th>\n",
              "      <th></th>\n",
              "      <th></th>\n",
              "      <th></th>\n",
              "      <th></th>\n",
              "      <th></th>\n",
              "      <th></th>\n",
              "      <th></th>\n",
              "    </tr>\n",
              "  </thead>\n",
              "  <tbody>\n",
              "    <tr>\n",
              "      <th>62</th>\n",
              "      <td>1.0</td>\n",
              "      <td>19.0</td>\n",
              "      <td>1.0</td>\n",
              "      <td>NaN</td>\n",
              "      <td>NaN</td>\n",
              "      <td>6.0</td>\n",
              "      <td>3.000000</td>\n",
              "    </tr>\n",
              "    <tr>\n",
              "      <th>112</th>\n",
              "      <td>3.0</td>\n",
              "      <td>12.0</td>\n",
              "      <td>1.0</td>\n",
              "      <td>NaN</td>\n",
              "      <td>NaN</td>\n",
              "      <td>5.0</td>\n",
              "      <td>1.666667</td>\n",
              "    </tr>\n",
              "    <tr>\n",
              "      <th>167</th>\n",
              "      <td>2.0</td>\n",
              "      <td>10.0</td>\n",
              "      <td>1.0</td>\n",
              "      <td>NaN</td>\n",
              "      <td>NaN</td>\n",
              "      <td>4.0</td>\n",
              "      <td>1.333333</td>\n",
              "    </tr>\n",
              "    <tr>\n",
              "      <th>210</th>\n",
              "      <td>1.0</td>\n",
              "      <td>3.0</td>\n",
              "      <td>1.0</td>\n",
              "      <td>NaN</td>\n",
              "      <td>NaN</td>\n",
              "      <td>NaN</td>\n",
              "      <td>NaN</td>\n",
              "    </tr>\n",
              "    <tr>\n",
              "      <th>234</th>\n",
              "      <td>4.0</td>\n",
              "      <td>9.0</td>\n",
              "      <td>1.0</td>\n",
              "      <td>NaN</td>\n",
              "      <td>NaN</td>\n",
              "      <td>3.0</td>\n",
              "      <td>1.500000</td>\n",
              "    </tr>\n",
              "    <tr>\n",
              "      <th>...</th>\n",
              "      <td>...</td>\n",
              "      <td>...</td>\n",
              "      <td>...</td>\n",
              "      <td>...</td>\n",
              "      <td>...</td>\n",
              "      <td>...</td>\n",
              "      <td>...</td>\n",
              "    </tr>\n",
              "    <tr>\n",
              "      <th>225490</th>\n",
              "      <td>NaN</td>\n",
              "      <td>NaN</td>\n",
              "      <td>NaN</td>\n",
              "      <td>NaN</td>\n",
              "      <td>NaN</td>\n",
              "      <td>1.0</td>\n",
              "      <td>1.000000</td>\n",
              "    </tr>\n",
              "    <tr>\n",
              "      <th>225730</th>\n",
              "      <td>NaN</td>\n",
              "      <td>NaN</td>\n",
              "      <td>NaN</td>\n",
              "      <td>NaN</td>\n",
              "      <td>NaN</td>\n",
              "      <td>1.0</td>\n",
              "      <td>1.000000</td>\n",
              "    </tr>\n",
              "    <tr>\n",
              "      <th>225990</th>\n",
              "      <td>NaN</td>\n",
              "      <td>NaN</td>\n",
              "      <td>NaN</td>\n",
              "      <td>NaN</td>\n",
              "      <td>NaN</td>\n",
              "      <td>1.0</td>\n",
              "      <td>1.000000</td>\n",
              "    </tr>\n",
              "    <tr>\n",
              "      <th>226131</th>\n",
              "      <td>NaN</td>\n",
              "      <td>NaN</td>\n",
              "      <td>NaN</td>\n",
              "      <td>NaN</td>\n",
              "      <td>NaN</td>\n",
              "      <td>1.0</td>\n",
              "      <td>1.000000</td>\n",
              "    </tr>\n",
              "    <tr>\n",
              "      <th>226333</th>\n",
              "      <td>NaN</td>\n",
              "      <td>NaN</td>\n",
              "      <td>NaN</td>\n",
              "      <td>NaN</td>\n",
              "      <td>NaN</td>\n",
              "      <td>1.0</td>\n",
              "      <td>1.000000</td>\n",
              "    </tr>\n",
              "  </tbody>\n",
              "</table>\n",
              "<p>13315 rows × 7 columns</p>\n",
              "</div>\n",
              "      <button class=\"colab-df-convert\" onclick=\"convertToInteractive('df-d3d0a216-35ce-4022-9854-e1c87b6f9697')\"\n",
              "              title=\"Convert this dataframe to an interactive table.\"\n",
              "              style=\"display:none;\">\n",
              "        \n",
              "  <svg xmlns=\"http://www.w3.org/2000/svg\" height=\"24px\"viewBox=\"0 0 24 24\"\n",
              "       width=\"24px\">\n",
              "    <path d=\"M0 0h24v24H0V0z\" fill=\"none\"/>\n",
              "    <path d=\"M18.56 5.44l.94 2.06.94-2.06 2.06-.94-2.06-.94-.94-2.06-.94 2.06-2.06.94zm-11 1L8.5 8.5l.94-2.06 2.06-.94-2.06-.94L8.5 2.5l-.94 2.06-2.06.94zm10 10l.94 2.06.94-2.06 2.06-.94-2.06-.94-.94-2.06-.94 2.06-2.06.94z\"/><path d=\"M17.41 7.96l-1.37-1.37c-.4-.4-.92-.59-1.43-.59-.52 0-1.04.2-1.43.59L10.3 9.45l-7.72 7.72c-.78.78-.78 2.05 0 2.83L4 21.41c.39.39.9.59 1.41.59.51 0 1.02-.2 1.41-.59l7.78-7.78 2.81-2.81c.8-.78.8-2.07 0-2.86zM5.41 20L4 18.59l7.72-7.72 1.47 1.35L5.41 20z\"/>\n",
              "  </svg>\n",
              "      </button>\n",
              "      \n",
              "  <style>\n",
              "    .colab-df-container {\n",
              "      display:flex;\n",
              "      flex-wrap:wrap;\n",
              "      gap: 12px;\n",
              "    }\n",
              "\n",
              "    .colab-df-convert {\n",
              "      background-color: #E8F0FE;\n",
              "      border: none;\n",
              "      border-radius: 50%;\n",
              "      cursor: pointer;\n",
              "      display: none;\n",
              "      fill: #1967D2;\n",
              "      height: 32px;\n",
              "      padding: 0 0 0 0;\n",
              "      width: 32px;\n",
              "    }\n",
              "\n",
              "    .colab-df-convert:hover {\n",
              "      background-color: #E2EBFA;\n",
              "      box-shadow: 0px 1px 2px rgba(60, 64, 67, 0.3), 0px 1px 3px 1px rgba(60, 64, 67, 0.15);\n",
              "      fill: #174EA6;\n",
              "    }\n",
              "\n",
              "    [theme=dark] .colab-df-convert {\n",
              "      background-color: #3B4455;\n",
              "      fill: #D2E3FC;\n",
              "    }\n",
              "\n",
              "    [theme=dark] .colab-df-convert:hover {\n",
              "      background-color: #434B5C;\n",
              "      box-shadow: 0px 1px 3px 1px rgba(0, 0, 0, 0.15);\n",
              "      filter: drop-shadow(0px 1px 2px rgba(0, 0, 0, 0.3));\n",
              "      fill: #FFFFFF;\n",
              "    }\n",
              "  </style>\n",
              "\n",
              "      <script>\n",
              "        const buttonEl =\n",
              "          document.querySelector('#df-d3d0a216-35ce-4022-9854-e1c87b6f9697 button.colab-df-convert');\n",
              "        buttonEl.style.display =\n",
              "          google.colab.kernel.accessAllowed ? 'block' : 'none';\n",
              "\n",
              "        async function convertToInteractive(key) {\n",
              "          const element = document.querySelector('#df-d3d0a216-35ce-4022-9854-e1c87b6f9697');\n",
              "          const dataTable =\n",
              "            await google.colab.kernel.invokeFunction('convertToInteractive',\n",
              "                                                     [key], {});\n",
              "          if (!dataTable) return;\n",
              "\n",
              "          const docLinkHtml = 'Like what you see? Visit the ' +\n",
              "            '<a target=\"_blank\" href=https://colab.research.google.com/notebooks/data_table.ipynb>data table notebook</a>'\n",
              "            + ' to learn more about interactive tables.';\n",
              "          element.innerHTML = '';\n",
              "          dataTable['output_type'] = 'display_data';\n",
              "          await google.colab.output.renderOutput(dataTable, element);\n",
              "          const docLink = document.createElement('div');\n",
              "          docLink.innerHTML = docLinkHtml;\n",
              "          element.appendChild(docLink);\n",
              "        }\n",
              "      </script>\n",
              "    </div>\n",
              "  </div>\n",
              "  "
            ]
          },
          "metadata": {},
          "execution_count": 72
        }
      ]
    },
    {
      "cell_type": "code",
      "source": [
        "#%cd /content/drive/MyDrive/Colab Notebooks/milestoneII"
      ],
      "metadata": {
        "id": "Bng6vcFkfnzi"
      },
      "execution_count": 27,
      "outputs": []
    },
    {
      "cell_type": "code",
      "source": [
        "#!git config --global user.email \"rhailper@umich.edu\"\n",
        "#!git config --global user.name \"rhailper\"\n",
        "#!git pull"
      ],
      "metadata": {
        "id": "GCPMjcLOC-7v"
      },
      "execution_count": 21,
      "outputs": []
    },
    {
      "cell_type": "code",
      "source": [
        "#!git remote add origin https://{token}@github.com/rhailper/milestoneII.git"
      ],
      "metadata": {
        "id": "Pe9rrl16g_jL"
      },
      "execution_count": null,
      "outputs": []
    },
    {
      "cell_type": "code",
      "source": [
        "#!git pull"
      ],
      "metadata": {
        "id": "8w5ZCU73v-VH"
      },
      "execution_count": 20,
      "outputs": []
    },
    {
      "cell_type": "code",
      "source": [
        "#!git checkout main"
      ],
      "metadata": {
        "id": "6F_yt2Phup6b"
      },
      "execution_count": 19,
      "outputs": []
    },
    {
      "cell_type": "code",
      "source": [
        "#!git add .\n",
        "#!git commit -m 'Updates to folder structure'\n",
        "#!git push https://{token}@github.com/rhailper/milestoneII.git"
      ],
      "metadata": {
        "id": "vg7FMvzrD8T2",
        "outputId": "b39e9e39-10fe-42d7-fe71-17b8ce01329f",
        "colab": {
          "base_uri": "https://localhost:8080/"
        }
      },
      "execution_count": 95,
      "outputs": [
        {
          "output_type": "stream",
          "name": "stdout",
          "text": [
            "On branch main\n",
            "Your branch is up to date with 'origin/main'.\n",
            "\n",
            "nothing to commit, working tree clean\n",
            "Everything up-to-date\n"
          ]
        }
      ]
    }
  ]
}