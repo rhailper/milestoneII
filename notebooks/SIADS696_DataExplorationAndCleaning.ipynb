{
  "nbformat": 4,
  "nbformat_minor": 0,
  "metadata": {
    "colab": {
      "provenance": [],
      "include_colab_link": true
    },
    "kernelspec": {
      "name": "python3",
      "display_name": "Python 3"
    },
    "language_info": {
      "name": "python"
    }
  },
  "cells": [
    {
      "cell_type": "markdown",
      "metadata": {
        "id": "view-in-github",
        "colab_type": "text"
      },
      "source": [
        "<a href=\"https://colab.research.google.com/github/rhailper/milestoneII/blob/main/notebooks/SIADS696_DataExplorationAndCleaning.ipynb\" target=\"_parent\"><img src=\"https://colab.research.google.com/assets/colab-badge.svg\" alt=\"Open In Colab\"/></a>"
      ]
    },
    {
      "cell_type": "markdown",
      "source": [
        "Questions to discuss as a team  \n",
        "Should we all use the same input dataset so that the models we use are comparable?\n"
      ],
      "metadata": {
        "id": "JTgXxO-D8T7J"
      }
    },
    {
      "cell_type": "markdown",
      "source": [
        "### Pull from github"
      ],
      "metadata": {
        "id": "6qA1qHBlDbon"
      }
    },
    {
      "cell_type": "code",
      "source": [
        "from config import *"
      ],
      "metadata": {
        "id": "PdtGAopcDQMf"
      },
      "execution_count": null,
      "outputs": []
    },
    {
      "cell_type": "code",
      "source": [
        "%cd /content/drive/MyDrive/Colab Notebooks"
      ],
      "metadata": {
        "id": "aH30GBtggDvU",
        "outputId": "53432ea4-daf2-4c22-a520-d7c189e56470",
        "colab": {
          "base_uri": "https://localhost:8080/"
        }
      },
      "execution_count": 4,
      "outputs": [
        {
          "output_type": "stream",
          "name": "stdout",
          "text": [
            "/content/drive/MyDrive/Colab Notebooks\n"
          ]
        }
      ]
    },
    {
      "cell_type": "code",
      "source": [
        "#!git clone https://{token}@github.com/rhailper/milestoneII.git"
      ],
      "metadata": {
        "id": "B1II3jnwDVsa"
      },
      "execution_count": null,
      "outputs": []
    },
    {
      "cell_type": "code",
      "source": [
        "!git pull"
      ],
      "metadata": {
        "id": "QRkmUE-AC85W",
        "outputId": "2988fa43-4cfb-4d08-d5cd-bf5a7b33cfea",
        "colab": {
          "base_uri": "https://localhost:8080/"
        }
      },
      "execution_count": 8,
      "outputs": [
        {
          "output_type": "stream",
          "name": "stdout",
          "text": [
            "remote: Enumerating objects: 5, done.\u001b[K\n",
            "remote: Counting objects:  20% (1/5)\u001b[K\rremote: Counting objects:  40% (2/5)\u001b[K\rremote: Counting objects:  60% (3/5)\u001b[K\rremote: Counting objects:  80% (4/5)\u001b[K\rremote: Counting objects: 100% (5/5)\u001b[K\rremote: Counting objects: 100% (5/5), done.\u001b[K\n",
            "remote: Compressing objects:  33% (1/3)\u001b[K\rremote: Compressing objects:  66% (2/3)\u001b[K\rremote: Compressing objects: 100% (3/3)\u001b[K\rremote: Compressing objects: 100% (3/3), done.\u001b[K\n",
            "remote: Total 3 (delta 2), reused 0 (delta 0), pack-reused 0\u001b[K\n",
            "Unpacking objects: 100% (3/3), 2.82 KiB | 4.00 KiB/s, done.\n",
            "From https://github.com/rhailper/milestoneII\n",
            "   7cc4161..6035cd0  main       -> origin/main\n",
            "Updating 0b4821f..6035cd0\n",
            "Fast-forward\n",
            " SIADS696_DataExplorationAndCleaning.ipynb | 522 \u001b[32m+++++++++++++++++++\u001b[m\u001b[31m-----------\u001b[m\n",
            " 1 file changed, 341 insertions(+), 181 deletions(-)\n"
          ]
        }
      ]
    },
    {
      "cell_type": "markdown",
      "source": [
        "### Import and do basic cleaning to files"
      ],
      "metadata": {
        "id": "XInru0t6D9II"
      }
    },
    {
      "cell_type": "code",
      "source": [
        "import pandas as pd\n",
        "import numpy as numpy\n",
        "from sklearn.preprocessing import OneHotEncoder\n",
        "from sklearn.compose import make_column_transformer"
      ],
      "metadata": {
        "id": "Wyjz5ZI6D16T"
      },
      "execution_count": 11,
      "outputs": []
    },
    {
      "cell_type": "markdown",
      "source": [
        "#### Client information"
      ],
      "metadata": {
        "id": "hfDse424MSO1"
      }
    },
    {
      "cell_type": "code",
      "source": [
        "# import client info - this file has basic demographic information about the client\n",
        "demo = pd.read_csv('data/CLIENT_INFORMATION.csv') "
      ],
      "metadata": {
        "id": "1IFdfalfLJC7"
      },
      "execution_count": 13,
      "outputs": []
    },
    {
      "cell_type": "code",
      "source": [
        "# drop row with na values \n",
        "# If a client has na values in this value that means they died or stopped \n",
        "# receiving services from the organization \n",
        "# (it might also be interesting to look at these client)\n",
        "#client_info = client_info.dropna()"
      ],
      "metadata": {
        "id": "9R-8HpC_QfaG"
      },
      "execution_count": 14,
      "outputs": []
    },
    {
      "cell_type": "markdown",
      "source": [
        "Due to the deidentification process, this dataset was not allowed to disclose the exact age of any client over the age of 90. Any client over the age of 90 was coded as 90+ so this needs to be changed in order to make the feature numerical."
      ],
      "metadata": {
        "id": "D8LSv6pYBvxb"
      }
    },
    {
      "cell_type": "code",
      "source": [
        "# replace '90+' with 90\n",
        "demo['Age'] = demo['Age'].str.replace('90+','90',regex=False)#.astype(int)"
      ],
      "metadata": {
        "id": "yBEvCIBhLqTI"
      },
      "execution_count": 15,
      "outputs": []
    },
    {
      "cell_type": "code",
      "source": [
        "# convert categorical variables into one hot encoded dummy variables\n",
        "df = pd.get_dummies(demo, columns=['Gender','Federal Poverty','Race','Primary Funding Source','Multiple Funding Sources?'])"
      ],
      "metadata": {
        "id": "8RqTJhSHQdL_"
      },
      "execution_count": 16,
      "outputs": []
    },
    {
      "cell_type": "code",
      "source": [
        "df"
      ],
      "metadata": {
        "colab": {
          "base_uri": "https://localhost:8080/",
          "height": 557
        },
        "id": "49OnHXbNROQt",
        "outputId": "b1b148f7-1951-4313-e093-916e4f1d0fcf"
      },
      "execution_count": 17,
      "outputs": [
        {
          "output_type": "execute_result",
          "data": {
            "text/plain": [
              "           ID Age  Federal % of Poverty  ADL Count  Critical Need Count  \\\n",
              "0          10  38                  87.0        4.0                  0.0   \n",
              "1      100035  52                  73.0        6.0                  1.0   \n",
              "2      100048  90                 124.0        NaN                  NaN   \n",
              "3      100061  53                  51.0        6.0                  1.0   \n",
              "4      100073  69                  65.0        0.0                  2.0   \n",
              "...       ...  ..                   ...        ...                  ...   \n",
              "13598   99910  67                 145.0        5.0                  1.0   \n",
              "13599   99919  90                  96.0        7.0                  1.0   \n",
              "13600   99963  55                  76.0        5.0                  2.0   \n",
              "13601   99967  60                  72.0        5.0                  1.0   \n",
              "13602   99976  60                 138.0        4.0                  1.0   \n",
              "\n",
              "       IADL Count  Skilled Need Count  Nutrition Score  Gender_Female  \\\n",
              "0             5.0                 0.0              0.0              0   \n",
              "1             8.0                 0.0              3.0              1   \n",
              "2             NaN                 NaN              NaN              0   \n",
              "3             6.0                 0.0              3.0              1   \n",
              "4             1.0                 0.0              8.0              0   \n",
              "...           ...                 ...              ...            ...   \n",
              "13598         7.0                 0.0              3.0              1   \n",
              "13599         8.0                 0.0              6.0              1   \n",
              "13600         6.0                 0.0              9.0              1   \n",
              "13601         5.0                 0.0              8.0              1   \n",
              "13602         5.0                 0.0              4.0              1   \n",
              "\n",
              "       Gender_Male  ...  Race_Asian  Race_Black or African American  \\\n",
              "0                1  ...           0                               0   \n",
              "1                0  ...           0                               1   \n",
              "2                1  ...           0                               0   \n",
              "3                0  ...           0                               1   \n",
              "4                1  ...           0                               1   \n",
              "...            ...  ...         ...                             ...   \n",
              "13598            0  ...           0                               0   \n",
              "13599            0  ...           0                               1   \n",
              "13600            0  ...           0                               0   \n",
              "13601            0  ...           0                               1   \n",
              "13602            0  ...           0                               1   \n",
              "\n",
              "       Race_Multiracial  Race_Native Hawaiian or Other Pacific Islander  \\\n",
              "0                     0                                               0   \n",
              "1                     0                                               0   \n",
              "2                     0                                               0   \n",
              "3                     0                                               0   \n",
              "4                     0                                               0   \n",
              "...                 ...                                             ...   \n",
              "13598                 0                                               0   \n",
              "13599                 0                                               0   \n",
              "13600                 0                                               0   \n",
              "13601                 0                                               0   \n",
              "13602                 0                                               0   \n",
              "\n",
              "       Race_Unknown/Missing  Race_White  Primary Funding Source_Non-waiver  \\\n",
              "0                         1           0                                  0   \n",
              "1                         0           0                                  0   \n",
              "2                         0           1                                  0   \n",
              "3                         0           0                                  0   \n",
              "4                         0           0                                  1   \n",
              "...                     ...         ...                                ...   \n",
              "13598                     0           1                                  0   \n",
              "13599                     0           0                                  0   \n",
              "13600                     0           1                                  0   \n",
              "13601                     0           0                                  0   \n",
              "13602                     0           0                                  0   \n",
              "\n",
              "       Primary Funding Source_Waiver  Multiple Funding Sources?_No  \\\n",
              "0                                  1                             1   \n",
              "1                                  1                             1   \n",
              "2                                  1                             1   \n",
              "3                                  1                             1   \n",
              "4                                  0                             0   \n",
              "...                              ...                           ...   \n",
              "13598                              1                             1   \n",
              "13599                              1                             1   \n",
              "13600                              1                             1   \n",
              "13601                              1                             1   \n",
              "13602                              1                             1   \n",
              "\n",
              "       Multiple Funding Sources?_Yes  \n",
              "0                                  0  \n",
              "1                                  0  \n",
              "2                                  0  \n",
              "3                                  0  \n",
              "4                                  1  \n",
              "...                              ...  \n",
              "13598                              0  \n",
              "13599                              0  \n",
              "13600                              0  \n",
              "13601                              0  \n",
              "13602                              0  \n",
              "\n",
              "[13603 rows x 28 columns]"
            ],
            "text/html": [
              "\n",
              "  <div id=\"df-a413e00f-d157-4328-b31f-94d20314076c\">\n",
              "    <div class=\"colab-df-container\">\n",
              "      <div>\n",
              "<style scoped>\n",
              "    .dataframe tbody tr th:only-of-type {\n",
              "        vertical-align: middle;\n",
              "    }\n",
              "\n",
              "    .dataframe tbody tr th {\n",
              "        vertical-align: top;\n",
              "    }\n",
              "\n",
              "    .dataframe thead th {\n",
              "        text-align: right;\n",
              "    }\n",
              "</style>\n",
              "<table border=\"1\" class=\"dataframe\">\n",
              "  <thead>\n",
              "    <tr style=\"text-align: right;\">\n",
              "      <th></th>\n",
              "      <th>ID</th>\n",
              "      <th>Age</th>\n",
              "      <th>Federal % of Poverty</th>\n",
              "      <th>ADL Count</th>\n",
              "      <th>Critical Need Count</th>\n",
              "      <th>IADL Count</th>\n",
              "      <th>Skilled Need Count</th>\n",
              "      <th>Nutrition Score</th>\n",
              "      <th>Gender_Female</th>\n",
              "      <th>Gender_Male</th>\n",
              "      <th>...</th>\n",
              "      <th>Race_Asian</th>\n",
              "      <th>Race_Black or African American</th>\n",
              "      <th>Race_Multiracial</th>\n",
              "      <th>Race_Native Hawaiian or Other Pacific Islander</th>\n",
              "      <th>Race_Unknown/Missing</th>\n",
              "      <th>Race_White</th>\n",
              "      <th>Primary Funding Source_Non-waiver</th>\n",
              "      <th>Primary Funding Source_Waiver</th>\n",
              "      <th>Multiple Funding Sources?_No</th>\n",
              "      <th>Multiple Funding Sources?_Yes</th>\n",
              "    </tr>\n",
              "  </thead>\n",
              "  <tbody>\n",
              "    <tr>\n",
              "      <th>0</th>\n",
              "      <td>10</td>\n",
              "      <td>38</td>\n",
              "      <td>87.0</td>\n",
              "      <td>4.0</td>\n",
              "      <td>0.0</td>\n",
              "      <td>5.0</td>\n",
              "      <td>0.0</td>\n",
              "      <td>0.0</td>\n",
              "      <td>0</td>\n",
              "      <td>1</td>\n",
              "      <td>...</td>\n",
              "      <td>0</td>\n",
              "      <td>0</td>\n",
              "      <td>0</td>\n",
              "      <td>0</td>\n",
              "      <td>1</td>\n",
              "      <td>0</td>\n",
              "      <td>0</td>\n",
              "      <td>1</td>\n",
              "      <td>1</td>\n",
              "      <td>0</td>\n",
              "    </tr>\n",
              "    <tr>\n",
              "      <th>1</th>\n",
              "      <td>100035</td>\n",
              "      <td>52</td>\n",
              "      <td>73.0</td>\n",
              "      <td>6.0</td>\n",
              "      <td>1.0</td>\n",
              "      <td>8.0</td>\n",
              "      <td>0.0</td>\n",
              "      <td>3.0</td>\n",
              "      <td>1</td>\n",
              "      <td>0</td>\n",
              "      <td>...</td>\n",
              "      <td>0</td>\n",
              "      <td>1</td>\n",
              "      <td>0</td>\n",
              "      <td>0</td>\n",
              "      <td>0</td>\n",
              "      <td>0</td>\n",
              "      <td>0</td>\n",
              "      <td>1</td>\n",
              "      <td>1</td>\n",
              "      <td>0</td>\n",
              "    </tr>\n",
              "    <tr>\n",
              "      <th>2</th>\n",
              "      <td>100048</td>\n",
              "      <td>90</td>\n",
              "      <td>124.0</td>\n",
              "      <td>NaN</td>\n",
              "      <td>NaN</td>\n",
              "      <td>NaN</td>\n",
              "      <td>NaN</td>\n",
              "      <td>NaN</td>\n",
              "      <td>0</td>\n",
              "      <td>1</td>\n",
              "      <td>...</td>\n",
              "      <td>0</td>\n",
              "      <td>0</td>\n",
              "      <td>0</td>\n",
              "      <td>0</td>\n",
              "      <td>0</td>\n",
              "      <td>1</td>\n",
              "      <td>0</td>\n",
              "      <td>1</td>\n",
              "      <td>1</td>\n",
              "      <td>0</td>\n",
              "    </tr>\n",
              "    <tr>\n",
              "      <th>3</th>\n",
              "      <td>100061</td>\n",
              "      <td>53</td>\n",
              "      <td>51.0</td>\n",
              "      <td>6.0</td>\n",
              "      <td>1.0</td>\n",
              "      <td>6.0</td>\n",
              "      <td>0.0</td>\n",
              "      <td>3.0</td>\n",
              "      <td>1</td>\n",
              "      <td>0</td>\n",
              "      <td>...</td>\n",
              "      <td>0</td>\n",
              "      <td>1</td>\n",
              "      <td>0</td>\n",
              "      <td>0</td>\n",
              "      <td>0</td>\n",
              "      <td>0</td>\n",
              "      <td>0</td>\n",
              "      <td>1</td>\n",
              "      <td>1</td>\n",
              "      <td>0</td>\n",
              "    </tr>\n",
              "    <tr>\n",
              "      <th>4</th>\n",
              "      <td>100073</td>\n",
              "      <td>69</td>\n",
              "      <td>65.0</td>\n",
              "      <td>0.0</td>\n",
              "      <td>2.0</td>\n",
              "      <td>1.0</td>\n",
              "      <td>0.0</td>\n",
              "      <td>8.0</td>\n",
              "      <td>0</td>\n",
              "      <td>1</td>\n",
              "      <td>...</td>\n",
              "      <td>0</td>\n",
              "      <td>1</td>\n",
              "      <td>0</td>\n",
              "      <td>0</td>\n",
              "      <td>0</td>\n",
              "      <td>0</td>\n",
              "      <td>1</td>\n",
              "      <td>0</td>\n",
              "      <td>0</td>\n",
              "      <td>1</td>\n",
              "    </tr>\n",
              "    <tr>\n",
              "      <th>...</th>\n",
              "      <td>...</td>\n",
              "      <td>...</td>\n",
              "      <td>...</td>\n",
              "      <td>...</td>\n",
              "      <td>...</td>\n",
              "      <td>...</td>\n",
              "      <td>...</td>\n",
              "      <td>...</td>\n",
              "      <td>...</td>\n",
              "      <td>...</td>\n",
              "      <td>...</td>\n",
              "      <td>...</td>\n",
              "      <td>...</td>\n",
              "      <td>...</td>\n",
              "      <td>...</td>\n",
              "      <td>...</td>\n",
              "      <td>...</td>\n",
              "      <td>...</td>\n",
              "      <td>...</td>\n",
              "      <td>...</td>\n",
              "      <td>...</td>\n",
              "    </tr>\n",
              "    <tr>\n",
              "      <th>13598</th>\n",
              "      <td>99910</td>\n",
              "      <td>67</td>\n",
              "      <td>145.0</td>\n",
              "      <td>5.0</td>\n",
              "      <td>1.0</td>\n",
              "      <td>7.0</td>\n",
              "      <td>0.0</td>\n",
              "      <td>3.0</td>\n",
              "      <td>1</td>\n",
              "      <td>0</td>\n",
              "      <td>...</td>\n",
              "      <td>0</td>\n",
              "      <td>0</td>\n",
              "      <td>0</td>\n",
              "      <td>0</td>\n",
              "      <td>0</td>\n",
              "      <td>1</td>\n",
              "      <td>0</td>\n",
              "      <td>1</td>\n",
              "      <td>1</td>\n",
              "      <td>0</td>\n",
              "    </tr>\n",
              "    <tr>\n",
              "      <th>13599</th>\n",
              "      <td>99919</td>\n",
              "      <td>90</td>\n",
              "      <td>96.0</td>\n",
              "      <td>7.0</td>\n",
              "      <td>1.0</td>\n",
              "      <td>8.0</td>\n",
              "      <td>0.0</td>\n",
              "      <td>6.0</td>\n",
              "      <td>1</td>\n",
              "      <td>0</td>\n",
              "      <td>...</td>\n",
              "      <td>0</td>\n",
              "      <td>1</td>\n",
              "      <td>0</td>\n",
              "      <td>0</td>\n",
              "      <td>0</td>\n",
              "      <td>0</td>\n",
              "      <td>0</td>\n",
              "      <td>1</td>\n",
              "      <td>1</td>\n",
              "      <td>0</td>\n",
              "    </tr>\n",
              "    <tr>\n",
              "      <th>13600</th>\n",
              "      <td>99963</td>\n",
              "      <td>55</td>\n",
              "      <td>76.0</td>\n",
              "      <td>5.0</td>\n",
              "      <td>2.0</td>\n",
              "      <td>6.0</td>\n",
              "      <td>0.0</td>\n",
              "      <td>9.0</td>\n",
              "      <td>1</td>\n",
              "      <td>0</td>\n",
              "      <td>...</td>\n",
              "      <td>0</td>\n",
              "      <td>0</td>\n",
              "      <td>0</td>\n",
              "      <td>0</td>\n",
              "      <td>0</td>\n",
              "      <td>1</td>\n",
              "      <td>0</td>\n",
              "      <td>1</td>\n",
              "      <td>1</td>\n",
              "      <td>0</td>\n",
              "    </tr>\n",
              "    <tr>\n",
              "      <th>13601</th>\n",
              "      <td>99967</td>\n",
              "      <td>60</td>\n",
              "      <td>72.0</td>\n",
              "      <td>5.0</td>\n",
              "      <td>1.0</td>\n",
              "      <td>5.0</td>\n",
              "      <td>0.0</td>\n",
              "      <td>8.0</td>\n",
              "      <td>1</td>\n",
              "      <td>0</td>\n",
              "      <td>...</td>\n",
              "      <td>0</td>\n",
              "      <td>1</td>\n",
              "      <td>0</td>\n",
              "      <td>0</td>\n",
              "      <td>0</td>\n",
              "      <td>0</td>\n",
              "      <td>0</td>\n",
              "      <td>1</td>\n",
              "      <td>1</td>\n",
              "      <td>0</td>\n",
              "    </tr>\n",
              "    <tr>\n",
              "      <th>13602</th>\n",
              "      <td>99976</td>\n",
              "      <td>60</td>\n",
              "      <td>138.0</td>\n",
              "      <td>4.0</td>\n",
              "      <td>1.0</td>\n",
              "      <td>5.0</td>\n",
              "      <td>0.0</td>\n",
              "      <td>4.0</td>\n",
              "      <td>1</td>\n",
              "      <td>0</td>\n",
              "      <td>...</td>\n",
              "      <td>0</td>\n",
              "      <td>1</td>\n",
              "      <td>0</td>\n",
              "      <td>0</td>\n",
              "      <td>0</td>\n",
              "      <td>0</td>\n",
              "      <td>0</td>\n",
              "      <td>1</td>\n",
              "      <td>1</td>\n",
              "      <td>0</td>\n",
              "    </tr>\n",
              "  </tbody>\n",
              "</table>\n",
              "<p>13603 rows × 28 columns</p>\n",
              "</div>\n",
              "      <button class=\"colab-df-convert\" onclick=\"convertToInteractive('df-a413e00f-d157-4328-b31f-94d20314076c')\"\n",
              "              title=\"Convert this dataframe to an interactive table.\"\n",
              "              style=\"display:none;\">\n",
              "        \n",
              "  <svg xmlns=\"http://www.w3.org/2000/svg\" height=\"24px\"viewBox=\"0 0 24 24\"\n",
              "       width=\"24px\">\n",
              "    <path d=\"M0 0h24v24H0V0z\" fill=\"none\"/>\n",
              "    <path d=\"M18.56 5.44l.94 2.06.94-2.06 2.06-.94-2.06-.94-.94-2.06-.94 2.06-2.06.94zm-11 1L8.5 8.5l.94-2.06 2.06-.94-2.06-.94L8.5 2.5l-.94 2.06-2.06.94zm10 10l.94 2.06.94-2.06 2.06-.94-2.06-.94-.94-2.06-.94 2.06-2.06.94z\"/><path d=\"M17.41 7.96l-1.37-1.37c-.4-.4-.92-.59-1.43-.59-.52 0-1.04.2-1.43.59L10.3 9.45l-7.72 7.72c-.78.78-.78 2.05 0 2.83L4 21.41c.39.39.9.59 1.41.59.51 0 1.02-.2 1.41-.59l7.78-7.78 2.81-2.81c.8-.78.8-2.07 0-2.86zM5.41 20L4 18.59l7.72-7.72 1.47 1.35L5.41 20z\"/>\n",
              "  </svg>\n",
              "      </button>\n",
              "      \n",
              "  <style>\n",
              "    .colab-df-container {\n",
              "      display:flex;\n",
              "      flex-wrap:wrap;\n",
              "      gap: 12px;\n",
              "    }\n",
              "\n",
              "    .colab-df-convert {\n",
              "      background-color: #E8F0FE;\n",
              "      border: none;\n",
              "      border-radius: 50%;\n",
              "      cursor: pointer;\n",
              "      display: none;\n",
              "      fill: #1967D2;\n",
              "      height: 32px;\n",
              "      padding: 0 0 0 0;\n",
              "      width: 32px;\n",
              "    }\n",
              "\n",
              "    .colab-df-convert:hover {\n",
              "      background-color: #E2EBFA;\n",
              "      box-shadow: 0px 1px 2px rgba(60, 64, 67, 0.3), 0px 1px 3px 1px rgba(60, 64, 67, 0.15);\n",
              "      fill: #174EA6;\n",
              "    }\n",
              "\n",
              "    [theme=dark] .colab-df-convert {\n",
              "      background-color: #3B4455;\n",
              "      fill: #D2E3FC;\n",
              "    }\n",
              "\n",
              "    [theme=dark] .colab-df-convert:hover {\n",
              "      background-color: #434B5C;\n",
              "      box-shadow: 0px 1px 3px 1px rgba(0, 0, 0, 0.15);\n",
              "      filter: drop-shadow(0px 1px 2px rgba(0, 0, 0, 0.3));\n",
              "      fill: #FFFFFF;\n",
              "    }\n",
              "  </style>\n",
              "\n",
              "      <script>\n",
              "        const buttonEl =\n",
              "          document.querySelector('#df-a413e00f-d157-4328-b31f-94d20314076c button.colab-df-convert');\n",
              "        buttonEl.style.display =\n",
              "          google.colab.kernel.accessAllowed ? 'block' : 'none';\n",
              "\n",
              "        async function convertToInteractive(key) {\n",
              "          const element = document.querySelector('#df-a413e00f-d157-4328-b31f-94d20314076c');\n",
              "          const dataTable =\n",
              "            await google.colab.kernel.invokeFunction('convertToInteractive',\n",
              "                                                     [key], {});\n",
              "          if (!dataTable) return;\n",
              "\n",
              "          const docLinkHtml = 'Like what you see? Visit the ' +\n",
              "            '<a target=\"_blank\" href=https://colab.research.google.com/notebooks/data_table.ipynb>data table notebook</a>'\n",
              "            + ' to learn more about interactive tables.';\n",
              "          element.innerHTML = '';\n",
              "          dataTable['output_type'] = 'display_data';\n",
              "          await google.colab.output.renderOutput(dataTable, element);\n",
              "          const docLink = document.createElement('div');\n",
              "          docLink.innerHTML = docLinkHtml;\n",
              "          element.appendChild(docLink);\n",
              "        }\n",
              "      </script>\n",
              "    </div>\n",
              "  </div>\n",
              "  "
            ]
          },
          "metadata": {},
          "execution_count": 17
        }
      ]
    },
    {
      "cell_type": "markdown",
      "source": [
        "#### Client services\n"
      ],
      "metadata": {
        "id": "hGNtJtj0Rh4F"
      }
    },
    {
      "cell_type": "code",
      "source": [
        "# import client services - this files contains service utilization\n",
        "serv = pd.read_csv('data/CLIENT_SERVICES.csv') "
      ],
      "metadata": {
        "id": "0TwJDorsReM1"
      },
      "execution_count": 19,
      "outputs": []
    },
    {
      "cell_type": "code",
      "source": [
        "client_info"
      ],
      "metadata": {
        "colab": {
          "base_uri": "https://localhost:8080/",
          "height": 171
        },
        "id": "mn7CHqozRs3D",
        "outputId": "2a11e165-b86a-40b7-d6c1-55385fede827"
      },
      "execution_count": 20,
      "outputs": [
        {
          "output_type": "error",
          "ename": "NameError",
          "evalue": "ignored",
          "traceback": [
            "\u001b[0;31m---------------------------------------------------------------------------\u001b[0m",
            "\u001b[0;31mNameError\u001b[0m                                 Traceback (most recent call last)",
            "\u001b[0;32m<ipython-input-20-8bd679783d03>\u001b[0m in \u001b[0;36m<cell line: 1>\u001b[0;34m()\u001b[0m\n\u001b[0;32m----> 1\u001b[0;31m \u001b[0mclient_info\u001b[0m\u001b[0;34m\u001b[0m\u001b[0;34m\u001b[0m\u001b[0m\n\u001b[0m",
            "\u001b[0;31mNameError\u001b[0m: name 'client_info' is not defined"
          ]
        }
      ]
    },
    {
      "cell_type": "markdown",
      "source": [
        "#### Diagnoses"
      ],
      "metadata": {
        "id": "phX1-iR_9WFw"
      }
    },
    {
      "cell_type": "code",
      "source": [
        "# import diagnoses - this gile contains client diagnoses based on ICD-10 codes\n",
        "diag = pd.read_csv('//content/milestoneII/data/DIAGNOSES.csv') "
      ],
      "metadata": {
        "id": "oBRhyCff9VSn"
      },
      "execution_count": null,
      "outputs": []
    },
    {
      "cell_type": "markdown",
      "source": [
        "#### Questionaire"
      ],
      "metadata": {
        "id": "7KeGBoFw_UMo"
      }
    },
    {
      "cell_type": "code",
      "source": [
        "# import questionaire - this file contains information about clients ability to complete daily activities \n",
        "quest = pd.read_csv('/content/milestoneII/data/QUESTIONAIRE.csv') "
      ],
      "metadata": {
        "id": "B0Q49fKq_ZSp"
      },
      "execution_count": null,
      "outputs": []
    },
    {
      "cell_type": "code",
      "source": [
        "# get the most recent annual questionaire for each client "
      ],
      "metadata": {
        "id": "B731-Ir7UxtM"
      },
      "execution_count": null,
      "outputs": []
    },
    {
      "cell_type": "code",
      "source": [
        "# get the difference in scores between the most recent annual and the previous annual"
      ],
      "metadata": {
        "id": "HBlQI9gnU6jG"
      },
      "execution_count": null,
      "outputs": []
    },
    {
      "cell_type": "code",
      "source": [
        "#quest['InterRAI Period'].unique()"
      ],
      "metadata": {
        "id": "llLKrFlH_Rox"
      },
      "execution_count": null,
      "outputs": []
    },
    {
      "cell_type": "markdown",
      "source": [
        "#### Hospitalzations (will be outcome variable for supervised learning)"
      ],
      "metadata": {
        "id": "4wfKen-Z6lBn"
      }
    },
    {
      "cell_type": "code",
      "source": [
        "def convert_hosp(hosp,year,emerg_only=True):\n",
        "  '''Helper function to conver the hospitalzation dataset \n",
        "     into useable features or outcomes'''\n",
        "  if emerg_only == True:\n",
        "    df = hosp[(hosp['Year']==year)&(hosp['Admittype']=='Emergency')]\n",
        "    total_hosp_emerg_only = df.groupby('ID')['Number Hospitalzations'].sum()\n",
        "    avg_hosp_emerg_only = df.groupby('ID')['Number Hospitalzations'].mean()\n",
        "    return  total_hosp_emerg_only, avg_hosp_emerg_only\n",
        "  else:\n",
        "    df = hosp[(hosp['Year']==year)]\n",
        "    total_hosp = df.groupby('ID')['Number Hospitalzations'].sum()\n",
        "    avg_hosp = df.groupby('ID')['Number Hospitalzations'].mean()\n",
        "    return  total_hosp, avg_hosp"
      ],
      "metadata": {
        "id": "D2ZSnMCzZzkU"
      },
      "execution_count": null,
      "outputs": []
    },
    {
      "cell_type": "code",
      "source": [
        "# import hospitalzations - this file contains information about client hospitalzations in the past 2 years\n",
        "hosp = pd.read_csv('data/HOSPITALIZATIONS.csv') "
      ],
      "metadata": {
        "id": "s-cy7E6c6jvO"
      },
      "execution_count": null,
      "outputs": []
    },
    {
      "cell_type": "code",
      "source": [
        "hosp_features_and_outcomes = []\n",
        "for k,v in {'emerg_total_2022':[2022,True],'health_visits_total_2022':[2022,True],'emerg_avg_2022':,\n",
        "                 'health_visits_avg_2022':,'emerg_total_2023':,'emerg_avg_2023':,\n",
        "                 'health_visits_total_2023':,'health_visits_avg_2023':}:\n",
        "  convert_hosp(hosp,year,emerg_only=True)  "
      ],
      "metadata": {
        "id": "q2KHyHqQcACH"
      },
      "execution_count": null,
      "outputs": []
    },
    {
      "cell_type": "code",
      "source": [
        "# get the total number of emergecy room visits in 2022 per client (feature)\n",
        "emerg_total_2022.name = 'emerg_total_2022'"
      ],
      "metadata": {
        "id": "rGdjWr6EbezO"
      },
      "execution_count": null,
      "outputs": []
    },
    {
      "cell_type": "code",
      "source": [
        "# get the total number of emergecy room visits in 2022 per client (feature)\n",
        "emerg_total_2022 = hosp[(hosp['Year']==2022)&(hosp['Admittype']=='Emergency')].groupby('ID')['Number Hospitalzations'].sum()\n",
        "\n",
        "# get the total number of health care visits in 2022 per client (feature)\n",
        "health_visits_total_2022 = hosp[(hosp['Year']==2022)].groupby('ID')['Number Hospitalzations'].sum()\n",
        "\n",
        "# get the average emergency room visits per month in 2022 per client (feature)\n",
        "emerg_avg_2022 = hosp[(hosp['Year']==2022)&(hosp['Admittype']=='Emergency')].groupby('ID')['Number Hospitalzations'].mean()\n",
        "\n",
        "# get the average health care visits per month in 2022 per client (feature)\n",
        "health_visits_avg_2022 = hosp[(hosp['Year']==2022)].groupby('ID')['Number Hospitalzations'].mean()\n",
        "\n",
        "# get total number of emergecy room visits per client in Jan,Feb,Mar 2023 (outcome)\n",
        "emerg_total_2023 = hosp[(hosp['Year']==2023)&(hosp['Admittype']=='Emergency')].groupby('ID')['Number Hospitalzations'].sum()\n",
        "\n",
        "# get average number of emergecy room visits per client in Jan,Feb,Mar 2023 (outcome)\n",
        "emerg_avg_2023 = hosp[(hosp['Year']==2023)&(hosp['Admittype']=='Emergency')].groupby('ID')['Number Hospitalzations'].mean()\n",
        "\n",
        "# get total number of health care visits per client in Jan,Feb,Mar 2023 (outcome)\n",
        "health_visits_total_2023 = hosp[(hosp['Year']==2023)].groupby('ID')['Number Hospitalzations'].sum()\n",
        "\n",
        "# get average number of health care visits per client in Jan,Feb,Mar 2023 (outcome)\n",
        "health_visits_avg_2023 = hosp[(hosp['Year']==2023)].groupby('ID')['Number Hospitalzations'].mean()"
      ],
      "metadata": {
        "id": "Xx6xFBJNT-XX"
      },
      "execution_count": null,
      "outputs": []
    },
    {
      "cell_type": "code",
      "source": [
        "pd.concat([emerg_total_2022,health_visits_total_2022,emerg_avg_2022,\n",
        "           emerg_total_2023, emerg_avg_2023,\n",
        "           health_visits_total_2023,health_visits_avg_2023],axis=1)"
      ],
      "metadata": {
        "id": "jpn9Ce63WdgP",
        "outputId": "4fdf405a-f906-4f8e-8de3-71d56ca21645",
        "colab": {
          "base_uri": "https://localhost:8080/",
          "height": 516
        }
      },
      "execution_count": null,
      "outputs": [
        {
          "output_type": "execute_result",
          "data": {
            "text/plain": [
              "        emerg_total_2022  Number Hospitalzations  Number Hospitalzations  \\\n",
              "ID                                                                         \n",
              "62                   1.0                    19.0                     1.0   \n",
              "112                  3.0                    12.0                     1.0   \n",
              "167                  2.0                    10.0                     1.0   \n",
              "210                  1.0                     3.0                     1.0   \n",
              "234                  4.0                     9.0                     1.0   \n",
              "...                  ...                     ...                     ...   \n",
              "225490               NaN                     NaN                     NaN   \n",
              "225730               NaN                     NaN                     NaN   \n",
              "225990               NaN                     NaN                     NaN   \n",
              "226131               NaN                     NaN                     NaN   \n",
              "226333               NaN                     NaN                     NaN   \n",
              "\n",
              "        Number Hospitalzations  Number Hospitalzations  \\\n",
              "ID                                                       \n",
              "62                         NaN                     NaN   \n",
              "112                        NaN                     NaN   \n",
              "167                        NaN                     NaN   \n",
              "210                        NaN                     NaN   \n",
              "234                        NaN                     NaN   \n",
              "...                        ...                     ...   \n",
              "225490                     NaN                     NaN   \n",
              "225730                     NaN                     NaN   \n",
              "225990                     NaN                     NaN   \n",
              "226131                     NaN                     NaN   \n",
              "226333                     NaN                     NaN   \n",
              "\n",
              "        Number Hospitalzations  Number Hospitalzations  \n",
              "ID                                                      \n",
              "62                         6.0                3.000000  \n",
              "112                        5.0                1.666667  \n",
              "167                        4.0                1.333333  \n",
              "210                        NaN                     NaN  \n",
              "234                        3.0                1.500000  \n",
              "...                        ...                     ...  \n",
              "225490                     1.0                1.000000  \n",
              "225730                     1.0                1.000000  \n",
              "225990                     1.0                1.000000  \n",
              "226131                     1.0                1.000000  \n",
              "226333                     1.0                1.000000  \n",
              "\n",
              "[13315 rows x 7 columns]"
            ],
            "text/html": [
              "\n",
              "  <div id=\"df-d3d0a216-35ce-4022-9854-e1c87b6f9697\">\n",
              "    <div class=\"colab-df-container\">\n",
              "      <div>\n",
              "<style scoped>\n",
              "    .dataframe tbody tr th:only-of-type {\n",
              "        vertical-align: middle;\n",
              "    }\n",
              "\n",
              "    .dataframe tbody tr th {\n",
              "        vertical-align: top;\n",
              "    }\n",
              "\n",
              "    .dataframe thead th {\n",
              "        text-align: right;\n",
              "    }\n",
              "</style>\n",
              "<table border=\"1\" class=\"dataframe\">\n",
              "  <thead>\n",
              "    <tr style=\"text-align: right;\">\n",
              "      <th></th>\n",
              "      <th>emerg_total_2022</th>\n",
              "      <th>Number Hospitalzations</th>\n",
              "      <th>Number Hospitalzations</th>\n",
              "      <th>Number Hospitalzations</th>\n",
              "      <th>Number Hospitalzations</th>\n",
              "      <th>Number Hospitalzations</th>\n",
              "      <th>Number Hospitalzations</th>\n",
              "    </tr>\n",
              "    <tr>\n",
              "      <th>ID</th>\n",
              "      <th></th>\n",
              "      <th></th>\n",
              "      <th></th>\n",
              "      <th></th>\n",
              "      <th></th>\n",
              "      <th></th>\n",
              "      <th></th>\n",
              "    </tr>\n",
              "  </thead>\n",
              "  <tbody>\n",
              "    <tr>\n",
              "      <th>62</th>\n",
              "      <td>1.0</td>\n",
              "      <td>19.0</td>\n",
              "      <td>1.0</td>\n",
              "      <td>NaN</td>\n",
              "      <td>NaN</td>\n",
              "      <td>6.0</td>\n",
              "      <td>3.000000</td>\n",
              "    </tr>\n",
              "    <tr>\n",
              "      <th>112</th>\n",
              "      <td>3.0</td>\n",
              "      <td>12.0</td>\n",
              "      <td>1.0</td>\n",
              "      <td>NaN</td>\n",
              "      <td>NaN</td>\n",
              "      <td>5.0</td>\n",
              "      <td>1.666667</td>\n",
              "    </tr>\n",
              "    <tr>\n",
              "      <th>167</th>\n",
              "      <td>2.0</td>\n",
              "      <td>10.0</td>\n",
              "      <td>1.0</td>\n",
              "      <td>NaN</td>\n",
              "      <td>NaN</td>\n",
              "      <td>4.0</td>\n",
              "      <td>1.333333</td>\n",
              "    </tr>\n",
              "    <tr>\n",
              "      <th>210</th>\n",
              "      <td>1.0</td>\n",
              "      <td>3.0</td>\n",
              "      <td>1.0</td>\n",
              "      <td>NaN</td>\n",
              "      <td>NaN</td>\n",
              "      <td>NaN</td>\n",
              "      <td>NaN</td>\n",
              "    </tr>\n",
              "    <tr>\n",
              "      <th>234</th>\n",
              "      <td>4.0</td>\n",
              "      <td>9.0</td>\n",
              "      <td>1.0</td>\n",
              "      <td>NaN</td>\n",
              "      <td>NaN</td>\n",
              "      <td>3.0</td>\n",
              "      <td>1.500000</td>\n",
              "    </tr>\n",
              "    <tr>\n",
              "      <th>...</th>\n",
              "      <td>...</td>\n",
              "      <td>...</td>\n",
              "      <td>...</td>\n",
              "      <td>...</td>\n",
              "      <td>...</td>\n",
              "      <td>...</td>\n",
              "      <td>...</td>\n",
              "    </tr>\n",
              "    <tr>\n",
              "      <th>225490</th>\n",
              "      <td>NaN</td>\n",
              "      <td>NaN</td>\n",
              "      <td>NaN</td>\n",
              "      <td>NaN</td>\n",
              "      <td>NaN</td>\n",
              "      <td>1.0</td>\n",
              "      <td>1.000000</td>\n",
              "    </tr>\n",
              "    <tr>\n",
              "      <th>225730</th>\n",
              "      <td>NaN</td>\n",
              "      <td>NaN</td>\n",
              "      <td>NaN</td>\n",
              "      <td>NaN</td>\n",
              "      <td>NaN</td>\n",
              "      <td>1.0</td>\n",
              "      <td>1.000000</td>\n",
              "    </tr>\n",
              "    <tr>\n",
              "      <th>225990</th>\n",
              "      <td>NaN</td>\n",
              "      <td>NaN</td>\n",
              "      <td>NaN</td>\n",
              "      <td>NaN</td>\n",
              "      <td>NaN</td>\n",
              "      <td>1.0</td>\n",
              "      <td>1.000000</td>\n",
              "    </tr>\n",
              "    <tr>\n",
              "      <th>226131</th>\n",
              "      <td>NaN</td>\n",
              "      <td>NaN</td>\n",
              "      <td>NaN</td>\n",
              "      <td>NaN</td>\n",
              "      <td>NaN</td>\n",
              "      <td>1.0</td>\n",
              "      <td>1.000000</td>\n",
              "    </tr>\n",
              "    <tr>\n",
              "      <th>226333</th>\n",
              "      <td>NaN</td>\n",
              "      <td>NaN</td>\n",
              "      <td>NaN</td>\n",
              "      <td>NaN</td>\n",
              "      <td>NaN</td>\n",
              "      <td>1.0</td>\n",
              "      <td>1.000000</td>\n",
              "    </tr>\n",
              "  </tbody>\n",
              "</table>\n",
              "<p>13315 rows × 7 columns</p>\n",
              "</div>\n",
              "      <button class=\"colab-df-convert\" onclick=\"convertToInteractive('df-d3d0a216-35ce-4022-9854-e1c87b6f9697')\"\n",
              "              title=\"Convert this dataframe to an interactive table.\"\n",
              "              style=\"display:none;\">\n",
              "        \n",
              "  <svg xmlns=\"http://www.w3.org/2000/svg\" height=\"24px\"viewBox=\"0 0 24 24\"\n",
              "       width=\"24px\">\n",
              "    <path d=\"M0 0h24v24H0V0z\" fill=\"none\"/>\n",
              "    <path d=\"M18.56 5.44l.94 2.06.94-2.06 2.06-.94-2.06-.94-.94-2.06-.94 2.06-2.06.94zm-11 1L8.5 8.5l.94-2.06 2.06-.94-2.06-.94L8.5 2.5l-.94 2.06-2.06.94zm10 10l.94 2.06.94-2.06 2.06-.94-2.06-.94-.94-2.06-.94 2.06-2.06.94z\"/><path d=\"M17.41 7.96l-1.37-1.37c-.4-.4-.92-.59-1.43-.59-.52 0-1.04.2-1.43.59L10.3 9.45l-7.72 7.72c-.78.78-.78 2.05 0 2.83L4 21.41c.39.39.9.59 1.41.59.51 0 1.02-.2 1.41-.59l7.78-7.78 2.81-2.81c.8-.78.8-2.07 0-2.86zM5.41 20L4 18.59l7.72-7.72 1.47 1.35L5.41 20z\"/>\n",
              "  </svg>\n",
              "      </button>\n",
              "      \n",
              "  <style>\n",
              "    .colab-df-container {\n",
              "      display:flex;\n",
              "      flex-wrap:wrap;\n",
              "      gap: 12px;\n",
              "    }\n",
              "\n",
              "    .colab-df-convert {\n",
              "      background-color: #E8F0FE;\n",
              "      border: none;\n",
              "      border-radius: 50%;\n",
              "      cursor: pointer;\n",
              "      display: none;\n",
              "      fill: #1967D2;\n",
              "      height: 32px;\n",
              "      padding: 0 0 0 0;\n",
              "      width: 32px;\n",
              "    }\n",
              "\n",
              "    .colab-df-convert:hover {\n",
              "      background-color: #E2EBFA;\n",
              "      box-shadow: 0px 1px 2px rgba(60, 64, 67, 0.3), 0px 1px 3px 1px rgba(60, 64, 67, 0.15);\n",
              "      fill: #174EA6;\n",
              "    }\n",
              "\n",
              "    [theme=dark] .colab-df-convert {\n",
              "      background-color: #3B4455;\n",
              "      fill: #D2E3FC;\n",
              "    }\n",
              "\n",
              "    [theme=dark] .colab-df-convert:hover {\n",
              "      background-color: #434B5C;\n",
              "      box-shadow: 0px 1px 3px 1px rgba(0, 0, 0, 0.15);\n",
              "      filter: drop-shadow(0px 1px 2px rgba(0, 0, 0, 0.3));\n",
              "      fill: #FFFFFF;\n",
              "    }\n",
              "  </style>\n",
              "\n",
              "      <script>\n",
              "        const buttonEl =\n",
              "          document.querySelector('#df-d3d0a216-35ce-4022-9854-e1c87b6f9697 button.colab-df-convert');\n",
              "        buttonEl.style.display =\n",
              "          google.colab.kernel.accessAllowed ? 'block' : 'none';\n",
              "\n",
              "        async function convertToInteractive(key) {\n",
              "          const element = document.querySelector('#df-d3d0a216-35ce-4022-9854-e1c87b6f9697');\n",
              "          const dataTable =\n",
              "            await google.colab.kernel.invokeFunction('convertToInteractive',\n",
              "                                                     [key], {});\n",
              "          if (!dataTable) return;\n",
              "\n",
              "          const docLinkHtml = 'Like what you see? Visit the ' +\n",
              "            '<a target=\"_blank\" href=https://colab.research.google.com/notebooks/data_table.ipynb>data table notebook</a>'\n",
              "            + ' to learn more about interactive tables.';\n",
              "          element.innerHTML = '';\n",
              "          dataTable['output_type'] = 'display_data';\n",
              "          await google.colab.output.renderOutput(dataTable, element);\n",
              "          const docLink = document.createElement('div');\n",
              "          docLink.innerHTML = docLinkHtml;\n",
              "          element.appendChild(docLink);\n",
              "        }\n",
              "      </script>\n",
              "    </div>\n",
              "  </div>\n",
              "  "
            ]
          },
          "metadata": {},
          "execution_count": 72
        }
      ]
    },
    {
      "cell_type": "code",
      "source": [
        "%cd /content/drive/MyDrive/Colab Notebooks/milestoneII"
      ],
      "metadata": {
        "id": "Bng6vcFkfnzi",
        "outputId": "4b95b1ea-931c-4a6e-b1ba-9d215d3de4f2",
        "colab": {
          "base_uri": "https://localhost:8080/"
        }
      },
      "execution_count": null,
      "outputs": [
        {
          "output_type": "stream",
          "name": "stdout",
          "text": [
            "/content/drive/MyDrive/Colab Notebooks/milestoneII\n"
          ]
        }
      ]
    },
    {
      "cell_type": "code",
      "source": [
        "#!git config --global user.email \"rhailper@umich.edu\"\n",
        "#!git config --global user.name \"rhailper\"\n",
        "#!git pull"
      ],
      "metadata": {
        "colab": {
          "base_uri": "https://localhost:8080/"
        },
        "id": "GCPMjcLOC-7v",
        "outputId": "1707ad54-b6a9-4141-eb60-62369eed676e"
      },
      "execution_count": null,
      "outputs": [
        {
          "output_type": "stream",
          "name": "stdout",
          "text": [
            "Already up to date.\n"
          ]
        }
      ]
    },
    {
      "cell_type": "code",
      "source": [
        "#!git remote add origin https://{token}@github.com/rhailper/milestoneII.git"
      ],
      "metadata": {
        "id": "Pe9rrl16g_jL"
      },
      "execution_count": null,
      "outputs": []
    },
    {
      "cell_type": "code",
      "source": [
        "!git add .\n",
        "!git commit -m 'Updates to data cleaning'\n",
        "!git push https://{token}@github.com/rhailper/milestoneII.git"
      ],
      "metadata": {
        "id": "vg7FMvzrD8T2",
        "outputId": "672964d5-0644-4c89-a416-ec7ddf83d079",
        "colab": {
          "base_uri": "https://localhost:8080/"
        }
      },
      "execution_count": null,
      "outputs": [
        {
          "output_type": "stream",
          "name": "stdout",
          "text": [
            "On branch main\n",
            "Your branch is ahead of 'origin/main' by 1 commit.\n",
            "  (use \"git push\" to publish your local commits)\n",
            "\n",
            "nothing to commit, working tree clean\n",
            "Enumerating objects: 3, done.\n",
            "Counting objects: 100% (3/3), done.\n",
            "Delta compression using up to 2 threads\n",
            "Compressing objects: 100% (2/2), done.\n",
            "Writing objects: 100% (2/2), 225 bytes | 75.00 KiB/s, done.\n",
            "Total 2 (delta 1), reused 0 (delta 0)\n",
            "remote: Resolving deltas: 100% (1/1), completed with 1 local object.\u001b[K\n",
            "To https://github.com/rhailper/milestoneII.git\n",
            "   7cc4161..0b4821f  main -> main\n"
          ]
        }
      ]
    }
  ]
}